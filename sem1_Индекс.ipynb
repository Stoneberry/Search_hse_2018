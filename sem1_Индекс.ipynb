{
 "cells": [
  {
   "cell_type": "markdown",
   "metadata": {},
   "source": [
    "## Семинар 1 Индекс\n",
    "\n",
    "## Intro"
   ]
  },
  {
   "cell_type": "markdown",
   "metadata": {},
   "source": [
    "### чтение файла \n",
    "- конструкция __with open__ (recommended)\n",
    "- конструкция __open + close__"
   ]
  },
  {
   "cell_type": "code",
   "execution_count": 211,
   "metadata": {},
   "outputs": [],
   "source": [
    "fpath = 'fpath.txt'\n",
    "\n",
    "# одним массивом  \n",
    "with open(fpath, 'r') as f:  \n",
    "    text = f.read() \n",
    "\n",
    "#по строкам, в конце каждой строки \\n  \n",
    "with open(fpath, 'r') as f:   \n",
    "    text = f.readlines() \n",
    "\n",
    "#по строкам, без \\n   \n",
    "with open(fpath, 'r') as f:   \n",
    "    text = f.read().splitlines() \n",
    "    \n",
    "#not reccomended  \n",
    "file = open(txt_fpath, 'r')  \n",
    "text = file.read()    \n",
    "file.close() "
   ]
  },
  {
   "cell_type": "markdown",
   "metadata": {},
   "source": [
    "### работа с файлами и папками"
   ]
  },
  {
   "cell_type": "markdown",
   "metadata": {},
   "source": [
    "### os.path  \n",
    "путь до файла"
   ]
  },
  {
   "cell_type": "code",
   "execution_count": null,
   "metadata": {},
   "outputs": [],
   "source": [
    "import os\n",
    "\n",
    "# возвращает полный путь до папки/файла по имени файла / папки\n",
    "print(os.path.abspath('fpath.txt'))\n",
    "\n",
    "# возвращает имя файла / папки по полному пути до него\n",
    "print(os.path.basename('/your/path/to/folder/with/fpath.txt'))\n",
    "\n",
    "# проверить существование директории - True / False\n",
    "print(os.path.exists('your/path/to/any/folder/'))"
   ]
  },
  {
   "cell_type": "markdown",
   "metadata": {},
   "source": [
    "### os.listdir  \n",
    "возвращает список файлов в данной директории"
   ]
  },
  {
   "cell_type": "code",
   "execution_count": null,
   "metadata": {},
   "outputs": [],
   "source": [
    "main_dir = '/your/path/to/folder/with/folders/'\n",
    "os.listdir(main_dir)"
   ]
  },
  {
   "cell_type": "markdown",
   "metadata": {},
   "source": [
    "сделаем пути абсолютными, чтобы наш код не зависел от того, где лежит этот файл"
   ]
  },
  {
   "cell_type": "code",
   "execution_count": null,
   "metadata": {},
   "outputs": [],
   "source": [
    "[main_dir + fpath for fpath in os.listdir(main_dir)]"
   ]
  },
  {
   "cell_type": "markdown",
   "metadata": {},
   "source": [
    "не забывайте исключать системные директории, такие как .DS_Store"
   ]
  },
  {
   "cell_type": "code",
   "execution_count": null,
   "metadata": {},
   "outputs": [],
   "source": [
    "[main_dir + fpath for fpath in os.listdir(main_dir) if not '.DS_Store' in fpath]"
   ]
  },
  {
   "cell_type": "markdown",
   "metadata": {},
   "source": [
    "### os.walk\n",
    "root - начальная директория  \n",
    "dirs - список поддиректорий (папок)   \n",
    "files - список файлов в этих поддиректориях  "
   ]
  },
  {
   "cell_type": "code",
   "execution_count": null,
   "metadata": {},
   "outputs": [],
   "source": [
    "main_dir = '/your/path/to/folder/with/folders/'\n",
    "\n",
    "for root, dirs, files in os.walk(main_dir):\n",
    "    for name in files:\n",
    "        print(os.path.join(root, name))"
   ]
  },
  {
   "cell_type": "markdown",
   "metadata": {},
   "source": [
    "> __os.walk__ возвращает генератор, это значит, что получить его элементы можно только проитерировавшись по нему  \n",
    "но его легко можно превратить в list и увидеть все его значения"
   ]
  },
  {
   "cell_type": "code",
   "execution_count": null,
   "metadata": {},
   "outputs": [],
   "source": [
    "list(os.walk(main_dir))"
   ]
  },
  {
   "cell_type": "markdown",
   "metadata": {},
   "source": [
    "  "
   ]
  },
  {
   "cell_type": "markdown",
   "metadata": {},
   "source": [
    "##  Обратный индекс \n",
    "\n",
    "Сам по себе обратный индекс не может осуществлять поиск, для этого необходимо добавить к нему определенную метрику. Это не совсем очевидная задача, поэтому немного отложим ее. А сейчас посмотрим, что полезного можно вытащить из индекса.    \n",
    "По сути, индекс - это информация о частоте встречаемости слова в каждом документе.   \n",
    "Из этого можно понять, например:\n",
    "1. какое слово является самым часто употребимым / редким\n",
    "2. какие слова встречаются всегда вместе. Так можно парсить твиттер, fb, форумы и отлавливать новые устойчивые выражения в речи\n",
    "3. какой документ является самым большим / маленьким (очень изощренный способ, когда есть _len_)"
   ]
  },
  {
   "cell_type": "code",
   "execution_count": 1,
   "metadata": {},
   "outputs": [],
   "source": [
    "import pandas as pd\n",
    "import numpy as np\n",
    "import os\n",
    "import warnings\n",
    "warnings.filterwarnings('ignore')"
   ]
  },
  {
   "cell_type": "markdown",
   "metadata": {},
   "source": [
    "### __Задача__: \n",
    "получите обратный индекс для коллекция документов.    \n",
    "Перед этим постройте матрицу терм-документ и сделайте функцию булева поиска, которая по запросу будет возвращать 5 релевантных документов.   \n",
    "В качестве коллекции возьмите сценарий сезонов сериала Друзья. Одна серия - один документ.\n",
    "\n",
    "[download_friends_corpus](https://yadi.sk/d/k_M7n63A3adGSz)"
   ]
  },
  {
   "cell_type": "code",
   "execution_count": 2,
   "metadata": {},
   "outputs": [],
   "source": [
    "import string\n",
    "from nltk.corpus import stopwords\n",
    "from string import punctuation"
   ]
  },
  {
   "cell_type": "markdown",
   "metadata": {},
   "source": [
    "Этапы:   \n",
    "    1. получить коллекцию документов   --- +\n",
    "    2. для каждого файла коллекции сделать необходимую на ваш взгляд предобработку --- +\n",
    "    3. получить матрицу терм-документ, написать функцию поиска по ней --- +\n",
    "    4. получить обратный индекс в виде словаря, где ключ - нормализованное слово,\n",
    "    значение - список файлов, в которых это слово встречается  --- +\n",
    "    5. вывести кусочек индекса в виде таблицы --- +\n",
    "    6. сделать анализ обратного индекса. Это задание принимается в виде кода и ответов на вопросы --- +"
   ]
  },
  {
   "cell_type": "code",
   "execution_count": 14,
   "metadata": {},
   "outputs": [],
   "source": [
    "main_dir = 'Friends/'"
   ]
  },
  {
   "cell_type": "code",
   "execution_count": 15,
   "metadata": {},
   "outputs": [],
   "source": [
    "stops = stopwords.words('russian')"
   ]
  },
  {
   "cell_type": "code",
   "execution_count": 16,
   "metadata": {},
   "outputs": [],
   "source": [
    "from collections import defaultdict"
   ]
  },
  {
   "cell_type": "code",
   "execution_count": 17,
   "metadata": {},
   "outputs": [],
   "source": [
    "import re\n",
    "\n",
    "def remove(text):\n",
    "    new = re.sub(r'\\ufeff', '', text)\n",
    "    new = re.sub(r'\\n', ' ', new)\n",
    "    new = re.sub(r'www.tvsubtitles.net', '', new)\n",
    "    new = re.sub(r'([\\W]|\\d)', ' ', new)\n",
    "    new = re.sub('(\\n|\\t|\\v|\\r)', ' ', new)\n",
    "   # new = re.sub(r'[ \\t\\v\\r\\n\\f]', ' ', new)\n",
    "    return new"
   ]
  },
  {
   "cell_type": "code",
   "execution_count": 18,
   "metadata": {},
   "outputs": [],
   "source": [
    "all_ = defaultdict(str)"
   ]
  },
  {
   "cell_type": "code",
   "execution_count": 19,
   "metadata": {},
   "outputs": [],
   "source": [
    "idx = defaultdict(str)"
   ]
  },
  {
   "cell_type": "code",
   "execution_count": 20,
   "metadata": {},
   "outputs": [],
   "source": [
    "from pymystem3 import Mystem\n",
    "\n",
    "mystem = Mystem()"
   ]
  },
  {
   "cell_type": "markdown",
   "metadata": {},
   "source": [
    "Словарь, чтобы потом понять сколько серия в каких сезонах"
   ]
  },
  {
   "cell_type": "code",
   "execution_count": 21,
   "metadata": {},
   "outputs": [],
   "source": [
    "seasons = defaultdict(list)"
   ]
  },
  {
   "cell_type": "markdown",
   "metadata": {},
   "source": [
    "Средняя длина текста (приблизительно)"
   ]
  },
  {
   "cell_type": "code",
   "execution_count": 22,
   "metadata": {},
   "outputs": [],
   "source": [
    "avr = []"
   ]
  },
  {
   "cell_type": "code",
   "execution_count": 23,
   "metadata": {},
   "outputs": [],
   "source": [
    "i = 0\n",
    "l = 0\n",
    "mystem = Mystem()\n",
    "\n",
    "for root, dirs, files in os.walk(main_dir):\n",
    "    for name in files:\n",
    "        if not '.DS_Store' in name:\n",
    "            with open(os.path.join(root, name), 'r') as f:\n",
    "                text = f.read() \n",
    "                a = mystem.lemmatize(remove(text))\n",
    "                avr.append(len(a))\n",
    "                all_[name[:-7]] = ''.join(a)\n",
    "                if i == 165:\n",
    "                    break\n",
    "                idx[i] = name[:-7]\n",
    "                seasons[l].append(name[:-7])\n",
    "                i += 1\n",
    "    l += 1"
   ]
  },
  {
   "cell_type": "markdown",
   "metadata": {},
   "source": [
    "Пример текста"
   ]
  },
  {
   "cell_type": "code",
   "execution_count": 25,
   "metadata": {},
   "outputs": [
    {
     "name": "stdout",
     "output_type": "stream",
     "text": [
      "боже мой   я знать  у моника быть ребенок   это можно считать за  что то новенький    бог ты мой   думать  поэтому чендлер сбегать   должно быть  она проходить тест совсем недавно  я мусор вчера вечер\n"
     ]
    }
   ],
   "source": [
    "print(all_[name[:-7]][0:200])"
   ]
  },
  {
   "cell_type": "code",
   "execution_count": 26,
   "metadata": {},
   "outputs": [
    {
     "name": "stdout",
     "output_type": "stream",
     "text": [
      "ребенок   у мы быть ребенок   фиби находить твой тест на беременность   я не делать тест на беременность   тогда кто делать   посмотреть на они   у они быть ребенок                                   \n",
      "\n"
     ]
    }
   ],
   "source": [
    "print(all_[name[:-7]][-200:])"
   ]
  },
  {
   "cell_type": "code",
   "execution_count": 27,
   "metadata": {},
   "outputs": [
    {
     "data": {
      "text/plain": [
       "165"
      ]
     },
     "execution_count": 27,
     "metadata": {},
     "output_type": "execute_result"
    }
   ],
   "source": [
    "len(all_)"
   ]
  },
  {
   "cell_type": "markdown",
   "metadata": {},
   "source": [
    "Tf-idf матрица"
   ]
  },
  {
   "cell_type": "code",
   "execution_count": 28,
   "metadata": {},
   "outputs": [],
   "source": [
    "from sklearn.feature_extraction.text import TfidfVectorizer, CountVectorizer"
   ]
  },
  {
   "cell_type": "code",
   "execution_count": 29,
   "metadata": {},
   "outputs": [],
   "source": [
    "vect = TfidfVectorizer()\n",
    "x = vect.fit_transform(list(all_.values())) "
   ]
  },
  {
   "cell_type": "code",
   "execution_count": 30,
   "metadata": {},
   "outputs": [],
   "source": [
    "data = pd.DataFrame(x.todense()).transpose()"
   ]
  },
  {
   "cell_type": "code",
   "execution_count": 31,
   "metadata": {},
   "outputs": [],
   "source": [
    "data.columns = list(idx.values())"
   ]
  },
  {
   "cell_type": "code",
   "execution_count": 32,
   "metadata": {},
   "outputs": [
    {
     "data": {
      "text/plain": [
       "(14113, 165)"
      ]
     },
     "execution_count": 32,
     "metadata": {},
     "output_type": "execute_result"
    }
   ],
   "source": [
    "data.shape"
   ]
  },
  {
   "cell_type": "code",
   "execution_count": 33,
   "metadata": {},
   "outputs": [],
   "source": [
    "data['Term'] = vect.get_feature_names()"
   ]
  },
  {
   "cell_type": "code",
   "execution_count": 34,
   "metadata": {},
   "outputs": [],
   "source": [
    "data = data.set_index(['Term'])"
   ]
  },
  {
   "cell_type": "markdown",
   "metadata": {},
   "source": [
    "В качестве частоты будем использовать сумму по строчке."
   ]
  },
  {
   "cell_type": "code",
   "execution_count": 35,
   "metadata": {},
   "outputs": [],
   "source": [
    "data['freq'] = data.sum(axis=1)"
   ]
  },
  {
   "cell_type": "code",
   "execution_count": 36,
   "metadata": {},
   "outputs": [
    {
     "data": {
      "text/html": [
       "<div>\n",
       "<style scoped>\n",
       "    .dataframe tbody tr th:only-of-type {\n",
       "        vertical-align: middle;\n",
       "    }\n",
       "\n",
       "    .dataframe tbody tr th {\n",
       "        vertical-align: top;\n",
       "    }\n",
       "\n",
       "    .dataframe thead th {\n",
       "        text-align: right;\n",
       "    }\n",
       "</style>\n",
       "<table border=\"1\" class=\"dataframe\">\n",
       "  <thead>\n",
       "    <tr style=\"text-align: right;\">\n",
       "      <th></th>\n",
       "      <th>Friends - 1x01 - The One Where Monica Gets A Roommate</th>\n",
       "      <th>Friends - 1x02 - The One With The Sonogram At The End</th>\n",
       "      <th>Friends - 1x03 - The One With The Thumb</th>\n",
       "      <th>Friends - 1x04 - The One With George Stephanopoulos</th>\n",
       "      <th>Friends - 1x05 - The One With The East German Laundry Detergent</th>\n",
       "      <th>Friends - 1x06 - The One With The Butt</th>\n",
       "      <th>Friends - 1x07 - The One With The Blackout</th>\n",
       "      <th>Friends - 1x08 - The One Where Nana Dies Twice</th>\n",
       "      <th>Friends - 1x09 - The One Where Underdog Gets Away</th>\n",
       "      <th>Friends - 1x10 - The One With The Monkey</th>\n",
       "      <th>...</th>\n",
       "      <th>Friends - 7x16 - The One With The Truth About London</th>\n",
       "      <th>Friends - 7x17 - The One With The Cheap Wedding Dress</th>\n",
       "      <th>Friends - 7x18 - The One With Joey's Award</th>\n",
       "      <th>Friends - 7x19 - The One With Ross And Monica's Cousin</th>\n",
       "      <th>Friends - 7x20 - The One With Rachel's Big Kiss</th>\n",
       "      <th>Friends - 7x21 - The One With The Vows</th>\n",
       "      <th>Friends - 7x22 - The One With Chandler's Dad</th>\n",
       "      <th>Friends - 7x23 - The One With Chandler And Monica's Wedding (1)</th>\n",
       "      <th>Friends - 7x24-25 - The One With Chandler And Monica's Wedding (2)</th>\n",
       "      <th>freq</th>\n",
       "    </tr>\n",
       "    <tr>\n",
       "      <th>Term</th>\n",
       "      <th></th>\n",
       "      <th></th>\n",
       "      <th></th>\n",
       "      <th></th>\n",
       "      <th></th>\n",
       "      <th></th>\n",
       "      <th></th>\n",
       "      <th></th>\n",
       "      <th></th>\n",
       "      <th></th>\n",
       "      <th></th>\n",
       "      <th></th>\n",
       "      <th></th>\n",
       "      <th></th>\n",
       "      <th></th>\n",
       "      <th></th>\n",
       "      <th></th>\n",
       "      <th></th>\n",
       "      <th></th>\n",
       "      <th></th>\n",
       "      <th></th>\n",
       "    </tr>\n",
       "  </thead>\n",
       "  <tbody>\n",
       "    <tr>\n",
       "      <th>after</th>\n",
       "      <td>0.0</td>\n",
       "      <td>0.00000</td>\n",
       "      <td>0.0</td>\n",
       "      <td>0.0</td>\n",
       "      <td>0.0</td>\n",
       "      <td>0.0</td>\n",
       "      <td>0.0</td>\n",
       "      <td>0.0</td>\n",
       "      <td>0.0</td>\n",
       "      <td>0.0</td>\n",
       "      <td>...</td>\n",
       "      <td>0.0</td>\n",
       "      <td>0.0</td>\n",
       "      <td>0.0</td>\n",
       "      <td>0.0</td>\n",
       "      <td>0.0</td>\n",
       "      <td>0.0</td>\n",
       "      <td>0.0</td>\n",
       "      <td>0.0</td>\n",
       "      <td>0.0</td>\n",
       "      <td>0.025744</td>\n",
       "    </tr>\n",
       "    <tr>\n",
       "      <th>again</th>\n",
       "      <td>0.0</td>\n",
       "      <td>0.02558</td>\n",
       "      <td>0.0</td>\n",
       "      <td>0.0</td>\n",
       "      <td>0.0</td>\n",
       "      <td>0.0</td>\n",
       "      <td>0.0</td>\n",
       "      <td>0.0</td>\n",
       "      <td>0.0</td>\n",
       "      <td>0.0</td>\n",
       "      <td>...</td>\n",
       "      <td>0.0</td>\n",
       "      <td>0.0</td>\n",
       "      <td>0.0</td>\n",
       "      <td>0.0</td>\n",
       "      <td>0.0</td>\n",
       "      <td>0.0</td>\n",
       "      <td>0.0</td>\n",
       "      <td>0.0</td>\n",
       "      <td>0.0</td>\n",
       "      <td>0.025580</td>\n",
       "    </tr>\n",
       "    <tr>\n",
       "      <th>ahh</th>\n",
       "      <td>0.0</td>\n",
       "      <td>0.00000</td>\n",
       "      <td>0.0</td>\n",
       "      <td>0.0</td>\n",
       "      <td>0.0</td>\n",
       "      <td>0.0</td>\n",
       "      <td>0.0</td>\n",
       "      <td>0.0</td>\n",
       "      <td>0.0</td>\n",
       "      <td>0.0</td>\n",
       "      <td>...</td>\n",
       "      <td>0.0</td>\n",
       "      <td>0.0</td>\n",
       "      <td>0.0</td>\n",
       "      <td>0.0</td>\n",
       "      <td>0.0</td>\n",
       "      <td>0.0</td>\n",
       "      <td>0.0</td>\n",
       "      <td>0.0</td>\n",
       "      <td>0.0</td>\n",
       "      <td>0.024608</td>\n",
       "    </tr>\n",
       "    <tr>\n",
       "      <th>all</th>\n",
       "      <td>0.0</td>\n",
       "      <td>0.00000</td>\n",
       "      <td>0.0</td>\n",
       "      <td>0.0</td>\n",
       "      <td>0.0</td>\n",
       "      <td>0.0</td>\n",
       "      <td>0.0</td>\n",
       "      <td>0.0</td>\n",
       "      <td>0.0</td>\n",
       "      <td>0.0</td>\n",
       "      <td>...</td>\n",
       "      <td>0.0</td>\n",
       "      <td>0.0</td>\n",
       "      <td>0.0</td>\n",
       "      <td>0.0</td>\n",
       "      <td>0.0</td>\n",
       "      <td>0.0</td>\n",
       "      <td>0.0</td>\n",
       "      <td>0.0</td>\n",
       "      <td>0.0</td>\n",
       "      <td>0.068349</td>\n",
       "    </tr>\n",
       "    <tr>\n",
       "      <th>and</th>\n",
       "      <td>0.0</td>\n",
       "      <td>0.00000</td>\n",
       "      <td>0.0</td>\n",
       "      <td>0.0</td>\n",
       "      <td>0.0</td>\n",
       "      <td>0.0</td>\n",
       "      <td>0.0</td>\n",
       "      <td>0.0</td>\n",
       "      <td>0.0</td>\n",
       "      <td>0.0</td>\n",
       "      <td>...</td>\n",
       "      <td>0.0</td>\n",
       "      <td>0.0</td>\n",
       "      <td>0.0</td>\n",
       "      <td>0.0</td>\n",
       "      <td>0.0</td>\n",
       "      <td>0.0</td>\n",
       "      <td>0.0</td>\n",
       "      <td>0.0</td>\n",
       "      <td>0.0</td>\n",
       "      <td>0.076152</td>\n",
       "    </tr>\n",
       "  </tbody>\n",
       "</table>\n",
       "<p>5 rows × 166 columns</p>\n",
       "</div>"
      ],
      "text/plain": [
       "       Friends - 1x01 - The One Where Monica Gets A Roommate  \\\n",
       "Term                                                           \n",
       "after                                                0.0       \n",
       "again                                                0.0       \n",
       "ahh                                                  0.0       \n",
       "all                                                  0.0       \n",
       "and                                                  0.0       \n",
       "\n",
       "       Friends - 1x02 - The One With The Sonogram At The End  \\\n",
       "Term                                                           \n",
       "after                                            0.00000       \n",
       "again                                            0.02558       \n",
       "ahh                                              0.00000       \n",
       "all                                              0.00000       \n",
       "and                                              0.00000       \n",
       "\n",
       "       Friends - 1x03 - The One With The Thumb  \\\n",
       "Term                                             \n",
       "after                                      0.0   \n",
       "again                                      0.0   \n",
       "ahh                                        0.0   \n",
       "all                                        0.0   \n",
       "and                                        0.0   \n",
       "\n",
       "       Friends - 1x04 - The One With George Stephanopoulos  \\\n",
       "Term                                                         \n",
       "after                                                0.0     \n",
       "again                                                0.0     \n",
       "ahh                                                  0.0     \n",
       "all                                                  0.0     \n",
       "and                                                  0.0     \n",
       "\n",
       "       Friends - 1x05 - The One With The East German Laundry Detergent  \\\n",
       "Term                                                                     \n",
       "after                                                0.0                 \n",
       "again                                                0.0                 \n",
       "ahh                                                  0.0                 \n",
       "all                                                  0.0                 \n",
       "and                                                  0.0                 \n",
       "\n",
       "       Friends - 1x06 - The One With The Butt  \\\n",
       "Term                                            \n",
       "after                                     0.0   \n",
       "again                                     0.0   \n",
       "ahh                                       0.0   \n",
       "all                                       0.0   \n",
       "and                                       0.0   \n",
       "\n",
       "       Friends - 1x07 - The One With The Blackout  \\\n",
       "Term                                                \n",
       "after                                         0.0   \n",
       "again                                         0.0   \n",
       "ahh                                           0.0   \n",
       "all                                           0.0   \n",
       "and                                           0.0   \n",
       "\n",
       "       Friends - 1x08 - The One Where Nana Dies Twice  \\\n",
       "Term                                                    \n",
       "after                                             0.0   \n",
       "again                                             0.0   \n",
       "ahh                                               0.0   \n",
       "all                                               0.0   \n",
       "and                                               0.0   \n",
       "\n",
       "       Friends - 1x09 - The One Where Underdog Gets Away  \\\n",
       "Term                                                       \n",
       "after                                                0.0   \n",
       "again                                                0.0   \n",
       "ahh                                                  0.0   \n",
       "all                                                  0.0   \n",
       "and                                                  0.0   \n",
       "\n",
       "       Friends - 1x10 - The One With The Monkey    ...     \\\n",
       "Term                                               ...      \n",
       "after                                       0.0    ...      \n",
       "again                                       0.0    ...      \n",
       "ahh                                         0.0    ...      \n",
       "all                                         0.0    ...      \n",
       "and                                         0.0    ...      \n",
       "\n",
       "       Friends - 7x16 - The One With The Truth About London  \\\n",
       "Term                                                          \n",
       "after                                                0.0      \n",
       "again                                                0.0      \n",
       "ahh                                                  0.0      \n",
       "all                                                  0.0      \n",
       "and                                                  0.0      \n",
       "\n",
       "       Friends - 7x17 - The One With The Cheap Wedding Dress  \\\n",
       "Term                                                           \n",
       "after                                                0.0       \n",
       "again                                                0.0       \n",
       "ahh                                                  0.0       \n",
       "all                                                  0.0       \n",
       "and                                                  0.0       \n",
       "\n",
       "       Friends - 7x18 - The One With Joey's Award  \\\n",
       "Term                                                \n",
       "after                                         0.0   \n",
       "again                                         0.0   \n",
       "ahh                                           0.0   \n",
       "all                                           0.0   \n",
       "and                                           0.0   \n",
       "\n",
       "       Friends - 7x19 - The One With Ross And Monica's Cousin  \\\n",
       "Term                                                            \n",
       "after                                                0.0        \n",
       "again                                                0.0        \n",
       "ahh                                                  0.0        \n",
       "all                                                  0.0        \n",
       "and                                                  0.0        \n",
       "\n",
       "       Friends - 7x20 - The One With Rachel's Big Kiss  \\\n",
       "Term                                                     \n",
       "after                                              0.0   \n",
       "again                                              0.0   \n",
       "ahh                                                0.0   \n",
       "all                                                0.0   \n",
       "and                                                0.0   \n",
       "\n",
       "       Friends - 7x21 - The One With The Vows  \\\n",
       "Term                                            \n",
       "after                                     0.0   \n",
       "again                                     0.0   \n",
       "ahh                                       0.0   \n",
       "all                                       0.0   \n",
       "and                                       0.0   \n",
       "\n",
       "       Friends - 7x22 - The One With Chandler's Dad  \\\n",
       "Term                                                  \n",
       "after                                           0.0   \n",
       "again                                           0.0   \n",
       "ahh                                             0.0   \n",
       "all                                             0.0   \n",
       "and                                             0.0   \n",
       "\n",
       "       Friends - 7x23 - The One With Chandler And Monica's Wedding (1)  \\\n",
       "Term                                                                     \n",
       "after                                                0.0                 \n",
       "again                                                0.0                 \n",
       "ahh                                                  0.0                 \n",
       "all                                                  0.0                 \n",
       "and                                                  0.0                 \n",
       "\n",
       "       Friends - 7x24-25 - The One With Chandler And Monica's Wedding (2)  \\\n",
       "Term                                                                        \n",
       "after                                                0.0                    \n",
       "again                                                0.0                    \n",
       "ahh                                                  0.0                    \n",
       "all                                                  0.0                    \n",
       "and                                                  0.0                    \n",
       "\n",
       "           freq  \n",
       "Term             \n",
       "after  0.025744  \n",
       "again  0.025580  \n",
       "ahh    0.024608  \n",
       "all    0.068349  \n",
       "and    0.076152  \n",
       "\n",
       "[5 rows x 166 columns]"
      ]
     },
     "execution_count": 36,
     "metadata": {},
     "output_type": "execute_result"
    }
   ],
   "source": [
    "data.head()"
   ]
  },
  {
   "cell_type": "markdown",
   "metadata": {},
   "source": [
    "Функция поиска"
   ]
  },
  {
   "cell_type": "code",
   "execution_count": 119,
   "metadata": {},
   "outputs": [],
   "source": [
    "def data_search(data, word, episode=None, non=False):\n",
    "\n",
    "    if not isinstance(word, str):\n",
    "        raise ValueError\n",
    "    if word == '':\n",
    "        return None\n",
    "\n",
    "    word = word.lower()\n",
    "\n",
    "    try:\n",
    "        data.loc[word]\n",
    "    except KeyError:\n",
    "        raise ValueError('There is no such word')\n",
    "\n",
    "    if episode is None:\n",
    "        answer = set()\n",
    "        if not non: \n",
    "            for index, item in enumerate(data.loc[word].drop('freq')):\n",
    "                if item > 0:\n",
    "                    answer.add(idx[index])\n",
    "        else:\n",
    "            for index, item in enumerate(data.loc[word].drop('freq')):\n",
    "                if item == 0:\n",
    "                    answer.add(idx[index])\n",
    "        return answer\n",
    "\n",
    "    if not isinstance(episode, str):\n",
    "        raise ValueError\n",
    "\n",
    "    return data.loc[word][episode]"
   ]
  },
  {
   "cell_type": "code",
   "execution_count": 120,
   "metadata": {},
   "outputs": [
    {
     "data": {
      "text/plain": [
       "{'Friends - 7x11 - The One With All The Cheesecakes'}"
      ]
     },
     "execution_count": 120,
     "metadata": {},
     "output_type": "execute_result"
    }
   ],
   "source": [
    "data_search(data, 'after')"
   ]
  },
  {
   "cell_type": "code",
   "execution_count": 149,
   "metadata": {},
   "outputs": [
    {
     "data": {
      "text/plain": [
       "{'Friends - 5x24-25 - The One In Vegas (2)',\n",
       " \"Friends - 7x08 - The One Where Chandler Doesn't Like Dogs\"}"
      ]
     },
     "execution_count": 149,
     "metadata": {},
     "output_type": "execute_result"
    }
   ],
   "source": [
    "data_search(data, 'and')"
   ]
  },
  {
   "cell_type": "markdown",
   "metadata": {},
   "source": [
    "Обратный индекс"
   ]
  },
  {
   "cell_type": "markdown",
   "metadata": {},
   "source": [
    "![](Friends/wedding.png)"
   ]
  },
  {
   "cell_type": "markdown",
   "metadata": {},
   "source": [
    "Напоминание:    \n",
    "> При итерации по списку вы можете помимо самого элемента получить его порядковый номер    \n",
    "``` for i, element in enumerate(your_list): ...  ```    \n",
    "Иногда для получения элемента делают так -  ``` your_list[i] ```, старайтесь этого избегать"
   ]
  },
  {
   "cell_type": "code",
   "execution_count": 26,
   "metadata": {},
   "outputs": [],
   "source": [
    "main_dir = '/your/path/with/Frinds/collection/'\n",
    "files_list = []\n",
    "\n",
    "### пройдитесь по всем папкам коллекции и соберите все пути .txt файлов\n",
    "### _check : в коллекции должно быть 165 файлов\n"
   ]
  },
  {
   "cell_type": "code",
   "execution_count": 187,
   "metadata": {},
   "outputs": [],
   "source": [
    "def space(text):\n",
    "    new = re.sub('\\(', '( ', text)\n",
    "    new = re.sub('\\)', ' )', new)\n",
    "    return new"
   ]
  },
  {
   "cell_type": "code",
   "execution_count": 269,
   "metadata": {},
   "outputs": [],
   "source": [
    "### постройте матрицу терм-документ\n",
    "term_doc_matrix = []\n",
    "\n",
    "\n",
    "### напишите функцию булева поиска по построенной матрице\n",
    "def boolean_search(data, text):\n",
    "    \"\"\"\n",
    "    Produces a Boolean search according with the term-document matrix\n",
    "    :return: list of first 5 relevant documents\n",
    "    \"\"\"\n",
    "    words = []\n",
    "    op = []\n",
    "    oper = ['&', 'ИЛИ', 'НЕ', '(', ')']\n",
    "    text = space(text)\n",
    "    text = text.split(' ')\n",
    "\n",
    "    for item in text:\n",
    "\n",
    "        if item not in oper:\n",
    "            if len(op) > 0 and op[-1] == 'НЕ':\n",
    "                item = data_search(data, item.lower(), non=True)\n",
    "                op.pop()\n",
    "            else:\n",
    "                item = data_search(data, item.lower())\n",
    "\n",
    "            if len(words) == 0:\n",
    "                words.append(item)\n",
    "\n",
    "            elif len(op) > 0:\n",
    "                if op[-1] == '&':\n",
    "                    answ = words[-1] & item\n",
    "                    words.pop()\n",
    "                    words.append(answ)\n",
    "                    op.pop()\n",
    "                elif op[-1] == 'ИЛИ':\n",
    "                    answ = words[-1] | item\n",
    "                    words.pop()\n",
    "                    words.append(answ)\n",
    "                    op.pop()\n",
    "                elif op[-1] == '(':\n",
    "                    op.pop()\n",
    "                    words.append(item)\n",
    "\n",
    "        elif item == ')':\n",
    "\n",
    "            if len(op) <= 0:\n",
    "                raise ValueError('Enter correct string')\n",
    "\n",
    "            if op[-1] == '(':\n",
    "                if len(words) <= 0:\n",
    "                    raise ValueError('Enter correct string')\n",
    "\n",
    "            else:\n",
    "                for i in op[::-1]:\n",
    "\n",
    "                    if i == '(':\n",
    "                        break\n",
    "                    elif i == '&':\n",
    "                        answ = words[-2] & words[-1]\n",
    "                        words.pop()\n",
    "                        words.pop()\n",
    "                        words.append(answ)\n",
    "                        op.pop()\n",
    "                    elif i == 'ИЛИ':\n",
    "                        answ = words[-2] | words[-1]\n",
    "                        words.pop()\n",
    "                        words.pop()\n",
    "                        words.append(answ)\n",
    "                        op.pop()\n",
    "                if len(op) == 0:\n",
    "                    break\n",
    "\n",
    "        else:\n",
    "            op.append(item)\n",
    "    return words[-1]\n",
    "\n",
    "\n",
    "#запросы \n",
    "input_text = [\n",
    "    'Моника & Фиби & Рэйчел & Чендлер & Джоуи & Росс',\n",
    "    '(Моника ИЛИ Фиби) & Рэйчел & (Чендлер ИЛИ Джоуи) & Росс',\n",
    "    '(НЕ Моника) & Фиби & Рэйчел & Чендлер & Джоуи & (НЕ Росс)'\n",
    "]"
   ]
  },
  {
   "cell_type": "code",
   "execution_count": 271,
   "metadata": {},
   "outputs": [
    {
     "data": {
      "text/plain": [
       "{'Friends - 1x04 - The One With George Stephanopoulos',\n",
       " 'Friends - 1x05 - The One With The East German Laundry Detergent',\n",
       " \"Friends - 2x01 - The One With Ross's New Girlfriend.DVDRip\",\n",
       " 'Friends - 2x02 - The One With The Breast Milk',\n",
       " \"Friends - 2x04 - The One With Phoebe's Husband\",\n",
       " 'Friends - 2x07 - The One Where Ross Finds Out',\n",
       " 'Friends - 2x17 - The One Where Eddie Moves In',\n",
       " 'Friends - 2x20 - The One Where Old Yeller Dies.NurlanB',\n",
       " 'Friends - 3x01 - The One With The Princess Leia Fantasy',\n",
       " 'Friends - 3x03 - The One With The Jam',\n",
       " \"Friends - 3x14 - The One With Phoebe's Ex-Partner\",\n",
       " \"Friends - 4x03 - The One With The 'Cuffs\",\n",
       " 'Friends - 4x10 - The One With The Girl From Poughkeepsie',\n",
       " 'Friends - 4x15 - The One With All The Rugby',\n",
       " 'Friends - 4x17 - The One With The Free Porn',\n",
       " 'Friends - 4x21 - The One With The Invitations',\n",
       " \"Friends - 4x24-25 - The One With Ross's Wedding (2)\",\n",
       " 'Friends - 5x02 - The One With All The Kissing',\n",
       " 'Friends - 5x07 - The One Where Ross Moves In',\n",
       " \"Friends - 5x13 - The One With Joey's Bag\",\n",
       " \"Friends - 5x17 - The One With Rachel's Inadvertent Kiss\",\n",
       " \"Friends - 6x03 - The One With Ross's Denial\",\n",
       " 'Friends - 6x04 - The One Where Joey Loses His Insurance',\n",
       " 'Friends - 6x11 - The One With The Apothecary Table',\n",
       " 'Friends - 6x12 - The One With The Joke',\n",
       " \"Friends - 7x02 - The One With Rachel's Book\",\n",
       " \"Friends - 7x08 - The One Where Chandler Doesn't Like Dogs\",\n",
       " 'Friends - 7x14 - The One Where They All Turn Thirty',\n",
       " \"Friends - 7x22 - The One With Chandler's Dad\"}"
      ]
     },
     "execution_count": 271,
     "metadata": {},
     "output_type": "execute_result"
    }
   ],
   "source": [
    "text = 'Моника & Фиби & Рэйчел & Чендлер & Джоуи & Росс'\n",
    "boolean_search(data, text)"
   ]
  },
  {
   "cell_type": "markdown",
   "metadata": {},
   "source": [
    "<img src=\"pics/inv_index3.svg\" alt=\"Drawing\" style=\"width: 600px;\"/>"
   ]
  },
  {
   "cell_type": "markdown",
   "metadata": {},
   "source": [
    "Совет для построения обратного индекса: \n",
    "> В качестве словаря используйте ``` defaultdict ``` из модуля collections   \n",
    "Так можно избежать конструкции ``` dict.setdefault(key, default=None) ```"
   ]
  },
  {
   "cell_type": "code",
   "execution_count": 272,
   "metadata": {},
   "outputs": [],
   "source": [
    "def inverted_index(vect) -> dict:\n",
    "    \"\"\"\n",
    "    Create inverted index by input doc collection\n",
    "    :return: inverted index\n",
    "    \"\"\"\n",
    "\n",
    "    d = defaultdict(list)\n",
    "\n",
    "    for word in vect.get_feature_names():\n",
    "        d[word] = [i for i in data_search(data, word)]\n",
    "\n",
    "    return d"
   ]
  },
  {
   "cell_type": "code",
   "execution_count": 273,
   "metadata": {},
   "outputs": [],
   "source": [
    "d = inverted_index(vect)"
   ]
  },
  {
   "cell_type": "markdown",
   "metadata": {},
   "source": [
    "С помощью обратного индекса произведите следующую аналитику:  \n",
    "\n",
    "1) общая аналитика\n",
    "- какое слово является самым частотным?\n",
    "- какое самым редким?\n",
    "- какой набор слов есть во всех документах коллекции?\n",
    "\n",
    "2) частота встречаемости имен главных героев в каждом сезоне      \n",
    "- какой сезон был самым популярным у Чендлера? у Моники?   \n",
    "- кто из главных героев статистически самый популярный? \n"
   ]
  },
  {
   "cell_type": "markdown",
   "metadata": {},
   "source": [
    "Таблица индекса"
   ]
  },
  {
   "cell_type": "code",
   "execution_count": 274,
   "metadata": {},
   "outputs": [],
   "source": [
    "import collections"
   ]
  },
  {
   "cell_type": "code",
   "execution_count": 275,
   "metadata": {},
   "outputs": [],
   "source": [
    "inv_ind = pd.DataFrame({'term': vect.get_feature_names(),\n",
    "                        'docs': list(d.values()),\n",
    "                        'freq': data['freq']\n",
    "                       })"
   ]
  },
  {
   "cell_type": "code",
   "execution_count": 276,
   "metadata": {},
   "outputs": [],
   "source": [
    "inv_ind['lenght'] = inv_ind.docs.map(lambda x: len(x))"
   ]
  },
  {
   "cell_type": "code",
   "execution_count": 277,
   "metadata": {},
   "outputs": [
    {
     "data": {
      "text/html": [
       "<div>\n",
       "<style scoped>\n",
       "    .dataframe tbody tr th:only-of-type {\n",
       "        vertical-align: middle;\n",
       "    }\n",
       "\n",
       "    .dataframe tbody tr th {\n",
       "        vertical-align: top;\n",
       "    }\n",
       "\n",
       "    .dataframe thead th {\n",
       "        text-align: right;\n",
       "    }\n",
       "</style>\n",
       "<table border=\"1\" class=\"dataframe\">\n",
       "  <thead>\n",
       "    <tr style=\"text-align: right;\">\n",
       "      <th></th>\n",
       "      <th>docs</th>\n",
       "      <th>freq</th>\n",
       "      <th>term</th>\n",
       "      <th>lenght</th>\n",
       "    </tr>\n",
       "    <tr>\n",
       "      <th>Term</th>\n",
       "      <th></th>\n",
       "      <th></th>\n",
       "      <th></th>\n",
       "      <th></th>\n",
       "    </tr>\n",
       "  </thead>\n",
       "  <tbody>\n",
       "    <tr>\n",
       "      <th>after</th>\n",
       "      <td>[Friends - 7x22 - The One With Chandler's Dad]</td>\n",
       "      <td>0.025744</td>\n",
       "      <td>after</td>\n",
       "      <td>1</td>\n",
       "    </tr>\n",
       "    <tr>\n",
       "      <th>again</th>\n",
       "      <td>[Friends - 7x12 - The One Where They're Up All...</td>\n",
       "      <td>0.025580</td>\n",
       "      <td>again</td>\n",
       "      <td>1</td>\n",
       "    </tr>\n",
       "    <tr>\n",
       "      <th>ahh</th>\n",
       "      <td>[Friends - 4x04 - The One With The Ballroom Da...</td>\n",
       "      <td>0.024608</td>\n",
       "      <td>ahh</td>\n",
       "      <td>35</td>\n",
       "    </tr>\n",
       "    <tr>\n",
       "      <th>all</th>\n",
       "      <td>[Friends - 7x15 - The One With Joey's New Brai...</td>\n",
       "      <td>0.068349</td>\n",
       "      <td>all</td>\n",
       "      <td>3</td>\n",
       "    </tr>\n",
       "    <tr>\n",
       "      <th>and</th>\n",
       "      <td>[Friends - 6x16-17 - The One That Could Have B...</td>\n",
       "      <td>0.076152</td>\n",
       "      <td>and</td>\n",
       "      <td>17</td>\n",
       "    </tr>\n",
       "  </tbody>\n",
       "</table>\n",
       "</div>"
      ],
      "text/plain": [
       "                                                    docs      freq   term  \\\n",
       "Term                                                                        \n",
       "after     [Friends - 7x22 - The One With Chandler's Dad]  0.025744  after   \n",
       "again  [Friends - 7x12 - The One Where They're Up All...  0.025580  again   \n",
       "ahh    [Friends - 4x04 - The One With The Ballroom Da...  0.024608    ahh   \n",
       "all    [Friends - 7x15 - The One With Joey's New Brai...  0.068349    all   \n",
       "and    [Friends - 6x16-17 - The One That Could Have B...  0.076152    and   \n",
       "\n",
       "       lenght  \n",
       "Term           \n",
       "after       1  \n",
       "again       1  \n",
       "ahh        35  \n",
       "all         3  \n",
       "and        17  "
      ]
     },
     "execution_count": 277,
     "metadata": {},
     "output_type": "execute_result"
    }
   ],
   "source": [
    "inv_ind.head()"
   ]
  },
  {
   "cell_type": "markdown",
   "metadata": {},
   "source": [
    "Какое слово является самым частотным?"
   ]
  },
  {
   "cell_type": "code",
   "execution_count": 278,
   "metadata": {},
   "outputs": [
    {
     "data": {
      "text/plain": [
       "docs      [Friends - 2x04 - The One With Phoebe's Husban...\n",
       "freq                                                 55.332\n",
       "term                                                     ты\n",
       "lenght                                                    2\n",
       "Name: ты, dtype: object"
      ]
     },
     "execution_count": 278,
     "metadata": {},
     "output_type": "execute_result"
    }
   ],
   "source": [
    "inv_ind.ix[inv_ind['freq'].idxmax()]"
   ]
  },
  {
   "cell_type": "markdown",
   "metadata": {},
   "source": [
    "Какое самым редким?"
   ]
  },
  {
   "cell_type": "code",
   "execution_count": 279,
   "metadata": {},
   "outputs": [
    {
     "data": {
      "text/plain": [
       "docs      [Friends - 1x16 - The One With Two Parts (1)]\n",
       "freq                                          0.0156364\n",
       "term                                                 би\n",
       "lenght                                                1\n",
       "Name: би, dtype: object"
      ]
     },
     "execution_count": 279,
     "metadata": {},
     "output_type": "execute_result"
    }
   ],
   "source": [
    "inv_ind.ix[inv_ind['freq'].idxmin()]"
   ]
  },
  {
   "cell_type": "markdown",
   "metadata": {},
   "source": [
    "Какой набор слов есть во всех документах коллекции?"
   ]
  },
  {
   "cell_type": "code",
   "execution_count": 280,
   "metadata": {},
   "outputs": [
    {
     "data": {
      "text/plain": [
       "['done',\n",
       " 'oo',\n",
       " 'агрегат',\n",
       " 'базар',\n",
       " 'бублик',\n",
       " 'забавный',\n",
       " 'каво',\n",
       " 'клешня',\n",
       " 'кой',\n",
       " 'кофейня',\n",
       " 'мастерица',\n",
       " 'мега',\n",
       " 'молочко',\n",
       " 'мужесвеннен',\n",
       " 'насчет',\n",
       " 'ноль',\n",
       " 'обставлять',\n",
       " 'отвратный',\n",
       " 'переносить',\n",
       " 'повседневный',\n",
       " 'повыдергать',\n",
       " 'привязанность',\n",
       " 'пчела',\n",
       " 'расположение',\n",
       " 'соседский',\n",
       " 'съезжать',\n",
       " 'твердо',\n",
       " 'фаш',\n",
       " 'фильмец',\n",
       " 'фрэнсис',\n",
       " 'халка',\n",
       " 'червь']"
      ]
     },
     "execution_count": 280,
     "metadata": {},
     "output_type": "execute_result"
    }
   ],
   "source": [
    "list(inv_ind.loc[inv_ind['lenght'] == 165].term)"
   ]
  },
  {
   "cell_type": "markdown",
   "metadata": {},
   "source": [
    "Какой сезон был самым популярным у Чендлера? у Моники?"
   ]
  },
  {
   "cell_type": "markdown",
   "metadata": {},
   "source": [
    "Чендлер"
   ]
  },
  {
   "cell_type": "code",
   "execution_count": 281,
   "metadata": {},
   "outputs": [],
   "source": [
    "def popular(name):\n",
    "\n",
    "    row = data.loc[name.lower()]\n",
    "    row = row.drop('freq')\n",
    "\n",
    "    maximum = 0\n",
    "    seas = ''\n",
    "\n",
    "    for i in range(1, 8):\n",
    "        a = row[seasons[i]].sum()\n",
    "        if maximum < a:\n",
    "            maximum = a\n",
    "            seas = i\n",
    "\n",
    "    return seas"
   ]
  },
  {
   "cell_type": "code",
   "execution_count": 282,
   "metadata": {},
   "outputs": [
    {
     "data": {
      "text/plain": [
       "2"
      ]
     },
     "execution_count": 282,
     "metadata": {},
     "output_type": "execute_result"
    }
   ],
   "source": [
    "popular('чендлер')"
   ]
  },
  {
   "cell_type": "markdown",
   "metadata": {},
   "source": [
    "Моника"
   ]
  },
  {
   "cell_type": "code",
   "execution_count": 283,
   "metadata": {},
   "outputs": [
    {
     "data": {
      "text/plain": [
       "2"
      ]
     },
     "execution_count": 283,
     "metadata": {},
     "output_type": "execute_result"
    }
   ],
   "source": [
    "popular('моника')"
   ]
  },
  {
   "cell_type": "markdown",
   "metadata": {},
   "source": [
    "Кто из главных героев статистически самый популярный?"
   ]
  },
  {
   "cell_type": "code",
   "execution_count": 284,
   "metadata": {},
   "outputs": [
    {
     "data": {
      "text/plain": [
       "Term\n",
       "моника     3.881715\n",
       "росс       5.182460\n",
       "джоуи      3.999995\n",
       "чендлер    4.085088\n",
       "фиби       3.236180\n",
       "рэйчел     2.427932\n",
       "Name: freq, dtype: float64"
      ]
     },
     "execution_count": 284,
     "metadata": {},
     "output_type": "execute_result"
    }
   ],
   "source": [
    "data.loc[['моника', 'росс', 'джоуи', 'чендлер', 'фиби', 'рэйчел']]['freq']"
   ]
  },
  {
   "cell_type": "markdown",
   "metadata": {},
   "source": [
    "Росс самый популярный"
   ]
  },
  {
   "cell_type": "markdown",
   "metadata": {},
   "source": [
    "## Функция ранжирования Okapi BM25"
   ]
  },
  {
   "cell_type": "markdown",
   "metadata": {},
   "source": [
    "Для обратного индекса есть общепринятая формула для ранжирования *Okapi best match 25* ([Okapi BM25](https://ru.wikipedia.org/wiki/Okapi_BM25)).    \n",
    "Пусть дан запрос $Q$, содержащий слова  $q_1, ... , q_n$, тогда функция BM25 даёт следующую оценку релевантности документа $D$ запросу $Q$:\n",
    "\n",
    "$$ score(D, Q) = \\sum_{i}^{n} \\text{IDF}(q_i)*\\frac{(k_1+1)*f(q_i,D)}{f(q_i,D)+k_1(1-b+b\\frac{|D|}{avgdl})} $$ \n",
    "где   \n",
    ">$f(q_i,D)$ - частота слова $q_i$ в документе $D$ (TF)       \n",
    "$|D|$ - длина документа (количество слов в нём)   \n",
    "*avgdl* — средняя длина документа в коллекции    \n",
    "$k_1$ и $b$ — свободные коэффициенты, обычно их выбирают как $k_1$=2.0 и $b$=0.75   \n",
    "$$$$\n",
    "$\\text{IDF}(q_i)$ есть обратная документная частота (IDF) слова $q_i$: \n",
    "$$\\text{IDF}(q_i) = \\log\\frac{N-n(q_i)+0.5}{n(q_i)+0.5},$$\n",
    ">> где $N$ - общее количество документов в коллекции   \n",
    "$n(q_i)$ — количество документов, содержащих $q_i$"
   ]
  },
  {
   "cell_type": "markdown",
   "metadata": {},
   "source": [
    "Таблица с кол-вом употреблений"
   ]
  },
  {
   "cell_type": "code",
   "execution_count": 300,
   "metadata": {},
   "outputs": [],
   "source": [
    "new_vect = CountVectorizer()\n",
    "X = new_vect.fit_transform(list(all_.values())) \n",
    "new_data = pd.DataFrame(X.todense()).transpose()\n",
    "new_data.columns = list(idx.values())\n",
    "new_data['Term'] = new_vect.get_feature_names()\n",
    "new_data = new_data.set_index(['Term'])"
   ]
  },
  {
   "cell_type": "code",
   "execution_count": 310,
   "metadata": {},
   "outputs": [],
   "source": [
    "### реализуйте эту функцию ранжирования\n",
    "from math import log\n",
    "\n",
    "\n",
    "def score_BM25(qf, dl, avgdl, k1, b, N, n):\n",
    "    \"\"\"\n",
    "    Compute similarity score between search query and documents from collection\n",
    "    :return: score\n",
    "\n",
    "    qf - кол - во вхождений слова в документе\n",
    "    dl - длина документа\n",
    "\n",
    "    \"\"\"\n",
    "\n",
    "    tf = qf / dl\n",
    "    idf = log(N - n + 0.5 / n + 0.5)\n",
    "    a = (k1 + 1) * tf\n",
    "    b = tf + k1*(1 - b + b*(len(words)) / avgdl)\n",
    "\n",
    "    return (a / b) * idf"
   ]
  },
  {
   "cell_type": "code",
   "execution_count": 311,
   "metadata": {},
   "outputs": [
    {
     "data": {
      "text/plain": [
       "2.0942846416971577"
      ]
     },
     "execution_count": 311,
     "metadata": {},
     "output_type": "execute_result"
    }
   ],
   "source": [
    "score_BM25(45, 566, avgdl, k1, b, N, 3)"
   ]
  },
  {
   "cell_type": "markdown",
   "metadata": {},
   "source": [
    "### __Задача__:    \n",
    "напишите функцию, которая сортирует поисковую выдачу для любого входящего запроса согласно метрике *Okapi BM25*.    \n",
    "Выведите 10 первых результатов и их скор по запросу **рождественские каникулы**. "
   ]
  },
  {
   "cell_type": "code",
   "execution_count": 312,
   "metadata": {},
   "outputs": [],
   "source": [
    "def compute_sim(text, doc, data):\n",
    "    \"\"\"\n",
    "    Compute similarity score between search query and documents from collection\n",
    "    :return: score\n",
    "    \"\"\"\n",
    "\n",
    "    if not isinstance(text, str):\n",
    "        raise ValueError('enter correct data')\n",
    "    if not isinstance(doc, str):\n",
    "        raise ValueError('enter correct data')\n",
    "    if doc not in data.columns:\n",
    "        raise ValueError('enter correct data')\n",
    "\n",
    "    opr = [' ', '  ', '\\t', '\\n']\n",
    "    k1 = 2.0\n",
    "    b = 0.75\n",
    "    N = 165\n",
    "    avgdl = np.mean(avr)\n",
    "\n",
    "    words = mystem.lemmatize(remove(text))\n",
    "    words = [word for word in words if word not in opr]\n",
    "\n",
    "    ans = 0\n",
    "    text_len = data.sum()\n",
    "\n",
    "    for word in words:\n",
    "        if word in data.index:\n",
    "            qf = data.loc[word][doc]\n",
    "            dl = text_len[doc]\n",
    "            n = inv_ind.loc[word]['lenght']\n",
    "            ans += score_BM25(qf, dl, avgdl, k1, b, N, n)\n",
    "\n",
    "    return ans\n",
    "\n",
    "\n",
    "def get_search_result(text, data):\n",
    "    \"\"\"\n",
    "    Compute sim score between search query and all documents in collection\n",
    "    Collect as pair (doc_id, score)\n",
    "    :param query: input text\n",
    "    :return: list of lists with (doc_id, score)\n",
    "    \"\"\"\n",
    "\n",
    "    if not isinstance(text, str):\n",
    "        raise ValueError\n",
    "\n",
    "    arr = []\n",
    "\n",
    "    for doc in data.columns:\n",
    "        arr.append((doc, compute_sim(text, doc, data)))\n",
    "\n",
    "    return arr"
   ]
  },
  {
   "cell_type": "code",
   "execution_count": 317,
   "metadata": {},
   "outputs": [
    {
     "data": {
      "text/plain": [
       "[(\"Friends - 2x09 - The One With Phoebe's Dad\", 0.1442948960004289),\n",
       " ('Friends - 5x24-25 - The One In Vegas (2)', 0.09786580203636414),\n",
       " ('Friends - 3x21 - The One With A Chick And A Duck', 0.08329432985607205),\n",
       " ('Friends - 4x19 - The One With All The Haste', 0.05212327690188558),\n",
       " ('Friends - 5x15 - The One With The Girl Who Hits Joey', 0.03738228535181276),\n",
       " (\"Friends - 4x18 - The One With Rachel's New Dress\", 0.03729038035910373),\n",
       " (\"Friends - 5x12 - The One With Chandler's Work Laugh\", 0.035376934681449444),\n",
       " (\"Friends - 5x19 - The One Where Ross Can't Flirt\", 0.034629817744540325),\n",
       " ('Friends - 1x17 - The One With Two Parts (2)', 0.017897165013359913),\n",
       " ('Friends - 3x08 - The One With The Giant Poking Device',\n",
       "  0.016843805154432533)]"
      ]
     },
     "execution_count": 317,
     "metadata": {},
     "output_type": "execute_result"
    }
   ],
   "source": [
    "sorted(get_search_result('рождественские каникулы', new_data),\n",
    "       key=lambda x: x[1], reverse=True)[:10]"
   ]
  }
 ],
 "metadata": {
  "kernelspec": {
   "display_name": "Python 3",
   "language": "python",
   "name": "python3"
  },
  "language_info": {
   "codemirror_mode": {
    "name": "ipython",
    "version": 3
   },
   "file_extension": ".py",
   "mimetype": "text/x-python",
   "name": "python",
   "nbconvert_exporter": "python",
   "pygments_lexer": "ipython3",
   "version": "3.5.2"
  }
 },
 "nbformat": 4,
 "nbformat_minor": 2
}
