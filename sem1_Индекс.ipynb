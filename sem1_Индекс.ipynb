{
 "cells": [
  {
   "cell_type": "markdown",
   "metadata": {},
   "source": [
    "## Семинар 1 Индекс\n",
    "\n",
    "## Intro"
   ]
  },
  {
   "cell_type": "markdown",
   "metadata": {},
   "source": [
    "### чтение файла \n",
    "- конструкция __with open__ (recommended)\n",
    "- конструкция __open + close__"
   ]
  },
  {
   "cell_type": "code",
   "execution_count": 211,
   "metadata": {},
   "outputs": [],
   "source": [
    "fpath = 'fpath.txt'\n",
    "\n",
    "# одним массивом  \n",
    "with open(fpath, 'r') as f:  \n",
    "    text = f.read() \n",
    "\n",
    "#по строкам, в конце каждой строки \\n  \n",
    "with open(fpath, 'r') as f:   \n",
    "    text = f.readlines() \n",
    "\n",
    "#по строкам, без \\n   \n",
    "with open(fpath, 'r') as f:   \n",
    "    text = f.read().splitlines() \n",
    "    \n",
    "#not reccomended  \n",
    "file = open(txt_fpath, 'r')  \n",
    "text = file.read()    \n",
    "file.close() "
   ]
  },
  {
   "cell_type": "markdown",
   "metadata": {},
   "source": [
    "### работа с файлами и папками"
   ]
  },
  {
   "cell_type": "markdown",
   "metadata": {},
   "source": [
    "### os.path  \n",
    "путь до файла"
   ]
  },
  {
   "cell_type": "code",
   "execution_count": null,
   "metadata": {},
   "outputs": [],
   "source": [
    "import os\n",
    "\n",
    "# возвращает полный путь до папки/файла по имени файла / папки\n",
    "print(os.path.abspath('fpath.txt'))\n",
    "\n",
    "# возвращает имя файла / папки по полному пути до него\n",
    "print(os.path.basename('/your/path/to/folder/with/fpath.txt'))\n",
    "\n",
    "# проверить существование директории - True / False\n",
    "print(os.path.exists('your/path/to/any/folder/'))"
   ]
  },
  {
   "cell_type": "markdown",
   "metadata": {},
   "source": [
    "### os.listdir  \n",
    "возвращает список файлов в данной директории"
   ]
  },
  {
   "cell_type": "code",
   "execution_count": null,
   "metadata": {},
   "outputs": [],
   "source": [
    "main_dir = '/your/path/to/folder/with/folders/'\n",
    "os.listdir(main_dir)"
   ]
  },
  {
   "cell_type": "markdown",
   "metadata": {},
   "source": [
    "сделаем пути абсолютными, чтобы наш код не зависел от того, где лежит этот файл"
   ]
  },
  {
   "cell_type": "code",
   "execution_count": null,
   "metadata": {},
   "outputs": [],
   "source": [
    "[main_dir + fpath for fpath in os.listdir(main_dir)]"
   ]
  },
  {
   "cell_type": "markdown",
   "metadata": {},
   "source": [
    "не забывайте исключать системные директории, такие как .DS_Store"
   ]
  },
  {
   "cell_type": "code",
   "execution_count": null,
   "metadata": {},
   "outputs": [],
   "source": [
    "[main_dir + fpath for fpath in os.listdir(main_dir) if not '.DS_Store' in fpath]"
   ]
  },
  {
   "cell_type": "markdown",
   "metadata": {},
   "source": [
    "### os.walk\n",
    "root - начальная директория  \n",
    "dirs - список поддиректорий (папок)   \n",
    "files - список файлов в этих поддиректориях  "
   ]
  },
  {
   "cell_type": "code",
   "execution_count": null,
   "metadata": {},
   "outputs": [],
   "source": [
    "main_dir = '/your/path/to/folder/with/folders/'\n",
    "\n",
    "for root, dirs, files in os.walk(main_dir):\n",
    "    for name in files:\n",
    "        print(os.path.join(root, name))"
   ]
  },
  {
   "cell_type": "markdown",
   "metadata": {},
   "source": [
    "> __os.walk__ возвращает генератор, это значит, что получить его элементы можно только проитерировавшись по нему  \n",
    "но его легко можно превратить в list и увидеть все его значения"
   ]
  },
  {
   "cell_type": "code",
   "execution_count": null,
   "metadata": {},
   "outputs": [],
   "source": [
    "list(os.walk(main_dir))"
   ]
  },
  {
   "cell_type": "markdown",
   "metadata": {},
   "source": [
    "  "
   ]
  },
  {
   "cell_type": "markdown",
   "metadata": {},
   "source": [
    "##  Обратный индекс \n",
    "\n",
    "Сам по себе обратный индекс не может осуществлять поиск, для этого необходимо добавить к нему определенную метрику. Это не совсем очевидная задача, поэтому немного отложим ее. А сейчас посмотрим, что полезного можно вытащить из индекса.    \n",
    "По сути, индекс - это информация о частоте встречаемости слова в каждом документе.   \n",
    "Из этого можно понять, например:\n",
    "1. какое слово является самым часто употребимым / редким\n",
    "2. какие слова встречаются всегда вместе. Так можно парсить твиттер, fb, форумы и отлавливать новые устойчивые выражения в речи\n",
    "3. какой документ является самым большим / маленьким (очень изощренный способ, когда есть _len_)"
   ]
  },
  {
   "cell_type": "code",
   "execution_count": 1,
   "metadata": {},
   "outputs": [],
   "source": [
    "import pandas as pd\n",
    "import numpy as np\n",
    "import os\n",
    "import warnings\n",
    "warnings.filterwarnings('ignore')"
   ]
  },
  {
   "cell_type": "markdown",
   "metadata": {},
   "source": [
    "### __Задача__: \n",
    "получите обратный индекс для коллекция документов.    \n",
    "Перед этим постройте матрицу терм-документ и сделайте функцию булева поиска, которая по запросу будет возвращать 5 релевантных документов.   \n",
    "В качестве коллекции возьмите сценарий сезонов сериала Друзья. Одна серия - один документ.\n",
    "\n",
    "[download_friends_corpus](https://yadi.sk/d/k_M7n63A3adGSz)"
   ]
  },
  {
   "cell_type": "code",
   "execution_count": 2,
   "metadata": {},
   "outputs": [],
   "source": [
    "import string\n",
    "from nltk.corpus import stopwords\n",
    "from string import punctuation"
   ]
  },
  {
   "cell_type": "markdown",
   "metadata": {},
   "source": [
    "Этапы:   \n",
    "    1. получить коллекцию документов   --- +\n",
    "    2. для каждого файла коллекции сделать необходимую на ваш взгляд предобработку --- +\n",
    "    3. получить матрицу терм-документ, написать функцию поиска по ней --- +\n",
    "    4. получить обратный индекс в виде словаря, где ключ - нормализованное слово,\n",
    "    значение - список файлов, в которых это слово встречается  --- +\n",
    "    5. вывести кусочек индекса в виде таблицы --- +\n",
    "    6. сделать анализ обратного индекса. Это задание принимается в виде кода и ответов на вопросы --- +"
   ]
  },
  {
   "cell_type": "code",
   "execution_count": 5,
   "metadata": {},
   "outputs": [],
   "source": [
    "main_dir = '/Users/Stoneberry/Downloads/Friends/'"
   ]
  },
  {
   "cell_type": "code",
   "execution_count": 6,
   "metadata": {},
   "outputs": [],
   "source": [
    "stops = stopwords.words('russian')"
   ]
  },
  {
   "cell_type": "code",
   "execution_count": 7,
   "metadata": {},
   "outputs": [],
   "source": [
    "from collections import defaultdict"
   ]
  },
  {
   "cell_type": "code",
   "execution_count": 8,
   "metadata": {},
   "outputs": [],
   "source": [
    "import re\n",
    "\n",
    "def remove(text):\n",
    "    new = re.sub(r'\\ufeff', '', text)\n",
    "    new = re.sub(r'\\n', ' ', new)\n",
    "    new = re.sub(r'www.tvsubtitles.net', '', new)\n",
    "    new = re.sub(r'([\\W]|\\d)', ' ', new)\n",
    "    new = re.sub('(\\n|\\t|\\v|\\r)', ' ', new)\n",
    "   # new = re.sub(r'[ \\t\\v\\r\\n\\f]', ' ', new)\n",
    "    return new"
   ]
  },
  {
   "cell_type": "code",
   "execution_count": 37,
   "metadata": {},
   "outputs": [],
   "source": [
    "all_ = defaultdict(str)"
   ]
  },
  {
   "cell_type": "code",
   "execution_count": 38,
   "metadata": {},
   "outputs": [],
   "source": [
    "idx = defaultdict(str)"
   ]
  },
  {
   "cell_type": "code",
   "execution_count": 39,
   "metadata": {},
   "outputs": [],
   "source": [
    "from pymystem3 import Mystem\n",
    "\n",
    "mystem = Mystem()"
   ]
  },
  {
   "cell_type": "markdown",
   "metadata": {},
   "source": [
    "Словарь, чтобы потом понять сколько серия в каких сезонах"
   ]
  },
  {
   "cell_type": "code",
   "execution_count": 40,
   "metadata": {},
   "outputs": [],
   "source": [
    "seasons = defaultdict(list)"
   ]
  },
  {
   "cell_type": "markdown",
   "metadata": {},
   "source": [
    "Средняя длина текста (приблизительно)"
   ]
  },
  {
   "cell_type": "code",
   "execution_count": 41,
   "metadata": {},
   "outputs": [],
   "source": [
    "avr = []"
   ]
  },
  {
   "cell_type": "code",
   "execution_count": 42,
   "metadata": {},
   "outputs": [],
   "source": [
    "i = 0\n",
    "l = 0\n",
    "mystem = Mystem()\n",
    "\n",
    "for root, dirs, files in os.walk(main_dir):\n",
    "    for name in files:\n",
    "        if not '.DS_Store' in name:\n",
    "            with open(os.path.join(root, name), 'r') as f:\n",
    "                text = f.read() \n",
    "                a = mystem.lemmatize(remove(text))\n",
    "                avr.append(len(a))\n",
    "                all_[name[:-7]] = ''.join(a)\n",
    "                if i == 165:\n",
    "                    break\n",
    "                idx[i] = name[:-7]\n",
    "                seasons[l].append(name[:-7])\n",
    "                i += 1\n",
    "    l += 1"
   ]
  },
  {
   "cell_type": "markdown",
   "metadata": {},
   "source": [
    "Пример текста"
   ]
  },
  {
   "cell_type": "code",
   "execution_count": 15,
   "metadata": {},
   "outputs": [
    {
     "name": "stdout",
     "output_type": "stream",
     "text": [
      "боже мой   я знать  у моника быть ребенок   это можно считать за  что то новенький    бог ты мой   думать  поэтому чендлер сбегать   должно быть  она проходить тест совсем недавно  я мусор вчера вечер\n"
     ]
    }
   ],
   "source": [
    "print(all_[name[:-7]][0:200])"
   ]
  },
  {
   "cell_type": "code",
   "execution_count": 16,
   "metadata": {},
   "outputs": [
    {
     "name": "stdout",
     "output_type": "stream",
     "text": [
      "ребенок   у мы быть ребенок   фиби находить твой тест на беременность   я не делать тест на беременность   тогда кто делать   посмотреть на они   у они быть ребенок                                   \n",
      "\n"
     ]
    }
   ],
   "source": [
    "print(all_[name[:-7]][-200:])"
   ]
  },
  {
   "cell_type": "code",
   "execution_count": 17,
   "metadata": {},
   "outputs": [
    {
     "data": {
      "text/plain": [
       "165"
      ]
     },
     "execution_count": 17,
     "metadata": {},
     "output_type": "execute_result"
    }
   ],
   "source": [
    "len(all_)"
   ]
  },
  {
   "cell_type": "markdown",
   "metadata": {},
   "source": [
    "Tf-idf матрица"
   ]
  },
  {
   "cell_type": "code",
   "execution_count": 18,
   "metadata": {},
   "outputs": [],
   "source": [
    "from sklearn.feature_extraction.text import TfidfVectorizer, CountVectorizer"
   ]
  },
  {
   "cell_type": "code",
   "execution_count": 19,
   "metadata": {},
   "outputs": [],
   "source": [
    "vect = TfidfVectorizer()\n",
    "x = vect.fit_transform(list(all_.values())) "
   ]
  },
  {
   "cell_type": "code",
   "execution_count": 20,
   "metadata": {},
   "outputs": [],
   "source": [
    "data = pd.DataFrame(x.todense()).transpose()"
   ]
  },
  {
   "cell_type": "code",
   "execution_count": 21,
   "metadata": {},
   "outputs": [],
   "source": [
    "data.columns = list(idx.values())"
   ]
  },
  {
   "cell_type": "code",
   "execution_count": 22,
   "metadata": {},
   "outputs": [
    {
     "data": {
      "text/plain": [
       "(14113, 165)"
      ]
     },
     "execution_count": 22,
     "metadata": {},
     "output_type": "execute_result"
    }
   ],
   "source": [
    "data.shape"
   ]
  },
  {
   "cell_type": "code",
   "execution_count": 23,
   "metadata": {},
   "outputs": [],
   "source": [
    "data['Term'] = vect.get_feature_names()"
   ]
  },
  {
   "cell_type": "code",
   "execution_count": 24,
   "metadata": {},
   "outputs": [],
   "source": [
    "data = data.set_index(['Term'])"
   ]
  },
  {
   "cell_type": "markdown",
   "metadata": {},
   "source": [
    "В качестве частоты будем использовать сумму по строчке."
   ]
  },
  {
   "cell_type": "code",
   "execution_count": 25,
   "metadata": {},
   "outputs": [],
   "source": [
    "data['freq'] = data.sum(axis=1)"
   ]
  },
  {
   "cell_type": "code",
   "execution_count": 44,
   "metadata": {},
   "outputs": [
    {
     "data": {
      "text/html": [
       "<div>\n",
       "<style scoped>\n",
       "    .dataframe tbody tr th:only-of-type {\n",
       "        vertical-align: middle;\n",
       "    }\n",
       "\n",
       "    .dataframe tbody tr th {\n",
       "        vertical-align: top;\n",
       "    }\n",
       "\n",
       "    .dataframe thead th {\n",
       "        text-align: right;\n",
       "    }\n",
       "</style>\n",
       "<table border=\"1\" class=\"dataframe\">\n",
       "  <thead>\n",
       "    <tr style=\"text-align: right;\">\n",
       "      <th></th>\n",
       "      <th>Friends - 1x01 - The One Where Monica Gets A Roommate</th>\n",
       "      <th>Friends - 1x02 - The One With The Sonogram At The End</th>\n",
       "      <th>Friends - 1x03 - The One With The Thumb</th>\n",
       "      <th>Friends - 1x04 - The One With George Stephanopoulos</th>\n",
       "      <th>Friends - 1x05 - The One With The East German Laundry Detergent</th>\n",
       "      <th>Friends - 1x06 - The One With The Butt</th>\n",
       "      <th>Friends - 1x07 - The One With The Blackout</th>\n",
       "      <th>Friends - 1x08 - The One Where Nana Dies Twice</th>\n",
       "      <th>Friends - 1x09 - The One Where Underdog Gets Away</th>\n",
       "      <th>Friends - 1x10 - The One With The Monkey</th>\n",
       "      <th>...</th>\n",
       "      <th>Friends - 7x16 - The One With The Truth About London</th>\n",
       "      <th>Friends - 7x17 - The One With The Cheap Wedding Dress</th>\n",
       "      <th>Friends - 7x18 - The One With Joey's Award</th>\n",
       "      <th>Friends - 7x19 - The One With Ross And Monica's Cousin</th>\n",
       "      <th>Friends - 7x20 - The One With Rachel's Big Kiss</th>\n",
       "      <th>Friends - 7x21 - The One With The Vows</th>\n",
       "      <th>Friends - 7x22 - The One With Chandler's Dad</th>\n",
       "      <th>Friends - 7x23 - The One With Chandler And Monica's Wedding (1)</th>\n",
       "      <th>Friends - 7x24-25 - The One With Chandler And Monica's Wedding (2)</th>\n",
       "      <th>freq</th>\n",
       "    </tr>\n",
       "    <tr>\n",
       "      <th>Term</th>\n",
       "      <th></th>\n",
       "      <th></th>\n",
       "      <th></th>\n",
       "      <th></th>\n",
       "      <th></th>\n",
       "      <th></th>\n",
       "      <th></th>\n",
       "      <th></th>\n",
       "      <th></th>\n",
       "      <th></th>\n",
       "      <th></th>\n",
       "      <th></th>\n",
       "      <th></th>\n",
       "      <th></th>\n",
       "      <th></th>\n",
       "      <th></th>\n",
       "      <th></th>\n",
       "      <th></th>\n",
       "      <th></th>\n",
       "      <th></th>\n",
       "      <th></th>\n",
       "    </tr>\n",
       "  </thead>\n",
       "  <tbody>\n",
       "    <tr>\n",
       "      <th>after</th>\n",
       "      <td>0.0</td>\n",
       "      <td>0.0</td>\n",
       "      <td>0.0</td>\n",
       "      <td>0.000000</td>\n",
       "      <td>0.0</td>\n",
       "      <td>0.0</td>\n",
       "      <td>0.0</td>\n",
       "      <td>0.0</td>\n",
       "      <td>0.0</td>\n",
       "      <td>0.0</td>\n",
       "      <td>...</td>\n",
       "      <td>0.0</td>\n",
       "      <td>0.0</td>\n",
       "      <td>0.0</td>\n",
       "      <td>0.0</td>\n",
       "      <td>0.0</td>\n",
       "      <td>0.0</td>\n",
       "      <td>0.0</td>\n",
       "      <td>0.0</td>\n",
       "      <td>0.0</td>\n",
       "      <td>0.025744</td>\n",
       "    </tr>\n",
       "    <tr>\n",
       "      <th>again</th>\n",
       "      <td>0.0</td>\n",
       "      <td>0.0</td>\n",
       "      <td>0.0</td>\n",
       "      <td>0.000000</td>\n",
       "      <td>0.0</td>\n",
       "      <td>0.0</td>\n",
       "      <td>0.0</td>\n",
       "      <td>0.0</td>\n",
       "      <td>0.0</td>\n",
       "      <td>0.0</td>\n",
       "      <td>...</td>\n",
       "      <td>0.0</td>\n",
       "      <td>0.0</td>\n",
       "      <td>0.0</td>\n",
       "      <td>0.0</td>\n",
       "      <td>0.0</td>\n",
       "      <td>0.0</td>\n",
       "      <td>0.0</td>\n",
       "      <td>0.0</td>\n",
       "      <td>0.0</td>\n",
       "      <td>0.025580</td>\n",
       "    </tr>\n",
       "    <tr>\n",
       "      <th>ahh</th>\n",
       "      <td>0.0</td>\n",
       "      <td>0.0</td>\n",
       "      <td>0.0</td>\n",
       "      <td>0.000000</td>\n",
       "      <td>0.0</td>\n",
       "      <td>0.0</td>\n",
       "      <td>0.0</td>\n",
       "      <td>0.0</td>\n",
       "      <td>0.0</td>\n",
       "      <td>0.0</td>\n",
       "      <td>...</td>\n",
       "      <td>0.0</td>\n",
       "      <td>0.0</td>\n",
       "      <td>0.0</td>\n",
       "      <td>0.0</td>\n",
       "      <td>0.0</td>\n",
       "      <td>0.0</td>\n",
       "      <td>0.0</td>\n",
       "      <td>0.0</td>\n",
       "      <td>0.0</td>\n",
       "      <td>0.024608</td>\n",
       "    </tr>\n",
       "    <tr>\n",
       "      <th>all</th>\n",
       "      <td>0.0</td>\n",
       "      <td>0.0</td>\n",
       "      <td>0.0</td>\n",
       "      <td>0.000000</td>\n",
       "      <td>0.0</td>\n",
       "      <td>0.0</td>\n",
       "      <td>0.0</td>\n",
       "      <td>0.0</td>\n",
       "      <td>0.0</td>\n",
       "      <td>0.0</td>\n",
       "      <td>...</td>\n",
       "      <td>0.0</td>\n",
       "      <td>0.0</td>\n",
       "      <td>0.0</td>\n",
       "      <td>0.0</td>\n",
       "      <td>0.0</td>\n",
       "      <td>0.0</td>\n",
       "      <td>0.0</td>\n",
       "      <td>0.0</td>\n",
       "      <td>0.0</td>\n",
       "      <td>0.068349</td>\n",
       "    </tr>\n",
       "    <tr>\n",
       "      <th>and</th>\n",
       "      <td>0.0</td>\n",
       "      <td>0.0</td>\n",
       "      <td>0.0</td>\n",
       "      <td>0.053245</td>\n",
       "      <td>0.0</td>\n",
       "      <td>0.0</td>\n",
       "      <td>0.0</td>\n",
       "      <td>0.0</td>\n",
       "      <td>0.0</td>\n",
       "      <td>0.0</td>\n",
       "      <td>...</td>\n",
       "      <td>0.0</td>\n",
       "      <td>0.0</td>\n",
       "      <td>0.0</td>\n",
       "      <td>0.0</td>\n",
       "      <td>0.0</td>\n",
       "      <td>0.0</td>\n",
       "      <td>0.0</td>\n",
       "      <td>0.0</td>\n",
       "      <td>0.0</td>\n",
       "      <td>0.076152</td>\n",
       "    </tr>\n",
       "  </tbody>\n",
       "</table>\n",
       "<p>5 rows × 166 columns</p>\n",
       "</div>"
      ],
      "text/plain": [
       "       Friends - 1x01 - The One Where Monica Gets A Roommate  \\\n",
       "Term                                                           \n",
       "after                                                0.0       \n",
       "again                                                0.0       \n",
       "ahh                                                  0.0       \n",
       "all                                                  0.0       \n",
       "and                                                  0.0       \n",
       "\n",
       "       Friends - 1x02 - The One With The Sonogram At The End  \\\n",
       "Term                                                           \n",
       "after                                                0.0       \n",
       "again                                                0.0       \n",
       "ahh                                                  0.0       \n",
       "all                                                  0.0       \n",
       "and                                                  0.0       \n",
       "\n",
       "       Friends - 1x03 - The One With The Thumb  \\\n",
       "Term                                             \n",
       "after                                      0.0   \n",
       "again                                      0.0   \n",
       "ahh                                        0.0   \n",
       "all                                        0.0   \n",
       "and                                        0.0   \n",
       "\n",
       "       Friends - 1x04 - The One With George Stephanopoulos  \\\n",
       "Term                                                         \n",
       "after                                           0.000000     \n",
       "again                                           0.000000     \n",
       "ahh                                             0.000000     \n",
       "all                                             0.000000     \n",
       "and                                             0.053245     \n",
       "\n",
       "       Friends - 1x05 - The One With The East German Laundry Detergent  \\\n",
       "Term                                                                     \n",
       "after                                                0.0                 \n",
       "again                                                0.0                 \n",
       "ahh                                                  0.0                 \n",
       "all                                                  0.0                 \n",
       "and                                                  0.0                 \n",
       "\n",
       "       Friends - 1x06 - The One With The Butt  \\\n",
       "Term                                            \n",
       "after                                     0.0   \n",
       "again                                     0.0   \n",
       "ahh                                       0.0   \n",
       "all                                       0.0   \n",
       "and                                       0.0   \n",
       "\n",
       "       Friends - 1x07 - The One With The Blackout  \\\n",
       "Term                                                \n",
       "after                                         0.0   \n",
       "again                                         0.0   \n",
       "ahh                                           0.0   \n",
       "all                                           0.0   \n",
       "and                                           0.0   \n",
       "\n",
       "       Friends - 1x08 - The One Where Nana Dies Twice  \\\n",
       "Term                                                    \n",
       "after                                             0.0   \n",
       "again                                             0.0   \n",
       "ahh                                               0.0   \n",
       "all                                               0.0   \n",
       "and                                               0.0   \n",
       "\n",
       "       Friends - 1x09 - The One Where Underdog Gets Away  \\\n",
       "Term                                                       \n",
       "after                                                0.0   \n",
       "again                                                0.0   \n",
       "ahh                                                  0.0   \n",
       "all                                                  0.0   \n",
       "and                                                  0.0   \n",
       "\n",
       "       Friends - 1x10 - The One With The Monkey    ...     \\\n",
       "Term                                               ...      \n",
       "after                                       0.0    ...      \n",
       "again                                       0.0    ...      \n",
       "ahh                                         0.0    ...      \n",
       "all                                         0.0    ...      \n",
       "and                                         0.0    ...      \n",
       "\n",
       "       Friends - 7x16 - The One With The Truth About London  \\\n",
       "Term                                                          \n",
       "after                                                0.0      \n",
       "again                                                0.0      \n",
       "ahh                                                  0.0      \n",
       "all                                                  0.0      \n",
       "and                                                  0.0      \n",
       "\n",
       "       Friends - 7x17 - The One With The Cheap Wedding Dress  \\\n",
       "Term                                                           \n",
       "after                                                0.0       \n",
       "again                                                0.0       \n",
       "ahh                                                  0.0       \n",
       "all                                                  0.0       \n",
       "and                                                  0.0       \n",
       "\n",
       "       Friends - 7x18 - The One With Joey's Award  \\\n",
       "Term                                                \n",
       "after                                         0.0   \n",
       "again                                         0.0   \n",
       "ahh                                           0.0   \n",
       "all                                           0.0   \n",
       "and                                           0.0   \n",
       "\n",
       "       Friends - 7x19 - The One With Ross And Monica's Cousin  \\\n",
       "Term                                                            \n",
       "after                                                0.0        \n",
       "again                                                0.0        \n",
       "ahh                                                  0.0        \n",
       "all                                                  0.0        \n",
       "and                                                  0.0        \n",
       "\n",
       "       Friends - 7x20 - The One With Rachel's Big Kiss  \\\n",
       "Term                                                     \n",
       "after                                              0.0   \n",
       "again                                              0.0   \n",
       "ahh                                                0.0   \n",
       "all                                                0.0   \n",
       "and                                                0.0   \n",
       "\n",
       "       Friends - 7x21 - The One With The Vows  \\\n",
       "Term                                            \n",
       "after                                     0.0   \n",
       "again                                     0.0   \n",
       "ahh                                       0.0   \n",
       "all                                       0.0   \n",
       "and                                       0.0   \n",
       "\n",
       "       Friends - 7x22 - The One With Chandler's Dad  \\\n",
       "Term                                                  \n",
       "after                                           0.0   \n",
       "again                                           0.0   \n",
       "ahh                                             0.0   \n",
       "all                                             0.0   \n",
       "and                                             0.0   \n",
       "\n",
       "       Friends - 7x23 - The One With Chandler And Monica's Wedding (1)  \\\n",
       "Term                                                                     \n",
       "after                                                0.0                 \n",
       "again                                                0.0                 \n",
       "ahh                                                  0.0                 \n",
       "all                                                  0.0                 \n",
       "and                                                  0.0                 \n",
       "\n",
       "       Friends - 7x24-25 - The One With Chandler And Monica's Wedding (2)  \\\n",
       "Term                                                                        \n",
       "after                                                0.0                    \n",
       "again                                                0.0                    \n",
       "ahh                                                  0.0                    \n",
       "all                                                  0.0                    \n",
       "and                                                  0.0                    \n",
       "\n",
       "           freq  \n",
       "Term             \n",
       "after  0.025744  \n",
       "again  0.025580  \n",
       "ahh    0.024608  \n",
       "all    0.068349  \n",
       "and    0.076152  \n",
       "\n",
       "[5 rows x 166 columns]"
      ]
     },
     "execution_count": 44,
     "metadata": {},
     "output_type": "execute_result"
    }
   ],
   "source": [
    "data.head()"
   ]
  },
  {
   "cell_type": "code",
   "execution_count": 25,
   "metadata": {},
   "outputs": [
    {
     "data": {
      "text/plain": [
       "pandas.core.frame.DataFrame"
      ]
     },
     "execution_count": 25,
     "metadata": {},
     "output_type": "execute_result"
    }
   ],
   "source": [
    "type(data)"
   ]
  },
  {
   "cell_type": "markdown",
   "metadata": {},
   "source": [
    "Функция поиска"
   ]
  },
  {
   "cell_type": "code",
   "execution_count": 58,
   "metadata": {},
   "outputs": [],
   "source": [
    "def data_search(data, word, episode=None, non=False):\n",
    "\n",
    "    if not isinstance(word, str):\n",
    "        raise ValueError\n",
    "    if word == '':\n",
    "        return None\n",
    "    \n",
    "    try:\n",
    "        data.loc[word]\n",
    "    except KeyError:\n",
    "        raise ValueError('There is no such word')\n",
    "\n",
    "    if episode is None:\n",
    "        answer = set()\n",
    "        if not non: \n",
    "            for index, item in enumerate(data.loc[word].drop('freq')):\n",
    "                if item > 0:\n",
    "                    answer.add(idx[index])\n",
    "        else:\n",
    "            for index, item in enumerate(data.loc[word]):\n",
    "                if item == 0:\n",
    "                    answer.add(idx[index])\n",
    "        return answer\n",
    "\n",
    "    if not isinstance(episode, str):\n",
    "        raise ValueError\n",
    "\n",
    "    return data.loc[word][episode]"
   ]
  },
  {
   "cell_type": "code",
   "execution_count": 59,
   "metadata": {},
   "outputs": [
    {
     "data": {
      "text/plain": [
       "{'Friends - 3x07 - The One With The Race Car Bed'}"
      ]
     },
     "execution_count": 59,
     "metadata": {},
     "output_type": "execute_result"
    }
   ],
   "source": [
    "data_search(data, 'after')"
   ]
  },
  {
   "cell_type": "code",
   "execution_count": 60,
   "metadata": {},
   "outputs": [
    {
     "data": {
      "text/plain": [
       "{'Friends - 1x04 - The One With George Stephanopoulos',\n",
       " 'Friends - 5x16 - The One With The Cop'}"
      ]
     },
     "execution_count": 60,
     "metadata": {},
     "output_type": "execute_result"
    }
   ],
   "source": [
    "data_search(data, 'and')"
   ]
  },
  {
   "cell_type": "code",
   "execution_count": 61,
   "metadata": {},
   "outputs": [
    {
     "data": {
      "text/plain": [
       "{'Friends - 1x11 - The One With Mrs. Bing',\n",
       " 'Friends - 1x16 - The One With Two Parts (1)',\n",
       " \"Friends - 2x01 - The One With Ross's New Girlfriend.DVDRip\",\n",
       " 'Friends - 2x02 - The One With The Breast Milk',\n",
       " \"Friends - 2x24 - The One With Barry And Mindy's Wedding\",\n",
       " 'Friends - 3x03 - The One With The Jam',\n",
       " 'Friends - 3x07 - The One With The Race Car Bed',\n",
       " \"Friends - 3x11 - The One Where Chandler Can't Remember Which Sister\",\n",
       " 'Friends - 3x20 - The One With The Dollhouse',\n",
       " 'Friends - 4x16 - The One With The Fake Party',\n",
       " \"Friends - 5x12 - The One With Chandler's Work Laugh\",\n",
       " 'Friends - 5x16 - The One With The Cop',\n",
       " 'Friends - 5x18 - The One Where Rachel Smokes',\n",
       " 'Friends - 5x21 - The One With The Ball',\n",
       " 'Friends - 5x23-24 - The One In Vegas (1)',\n",
       " 'Friends - 6x09 - The One Where Ross Got High',\n",
       " 'Friends - 6x25-26 - The One With The Proposal (2)',\n",
       " 'Friends - 7x10 - The One With The Holiday Armadillo',\n",
       " 'Friends - 7x13 - The One Where Rosita Dies',\n",
       " 'Friends - 7x21 - The One With The Vows'}"
      ]
     },
     "execution_count": 61,
     "metadata": {},
     "output_type": "execute_result"
    }
   ],
   "source": [
    "data_search(data, 'моника', non=True)"
   ]
  },
  {
   "cell_type": "markdown",
   "metadata": {},
   "source": [
    "Обратный индекс"
   ]
  },
  {
   "cell_type": "markdown",
   "metadata": {},
   "source": [
    "![](Friends/wedding.png)"
   ]
  },
  {
   "cell_type": "markdown",
   "metadata": {},
   "source": [
    "Напоминание:    \n",
    "> При итерации по списку вы можете помимо самого элемента получить его порядковый номер    \n",
    "``` for i, element in enumerate(your_list): ...  ```    \n",
    "Иногда для получения элемента делают так -  ``` your_list[i] ```, старайтесь этого избегать"
   ]
  },
  {
   "cell_type": "code",
   "execution_count": 26,
   "metadata": {},
   "outputs": [],
   "source": [
    "main_dir = '/your/path/with/Frinds/collection/'\n",
    "files_list = []\n",
    "\n",
    "### пройдитесь по всем папкам коллекции и соберите все пути .txt файлов\n",
    "### _check : в коллекции должно быть 165 файлов\n"
   ]
  },
  {
   "cell_type": "code",
   "execution_count": 22,
   "metadata": {},
   "outputs": [],
   "source": [
    "### постройте матрицу терм-документ\n",
    "term_doc_matrix = []\n",
    "\n",
    "\n",
    "### напишите функцию булева поиска по построенной матрице\n",
    "def boolean_search(data, text):\n",
    "    \"\"\"\n",
    "    Produces a Boolean search according with the term-document matrix\n",
    "    :return: list of first 5 relevant documents\n",
    "    \"\"\"\n",
    "\n",
    "#запросы \n",
    "input_text = [\n",
    "    'Моника & Фиби & Рэйчел & Чендлер & Джои & Росс',\n",
    "    '(Моника ИЛИ Фиби) & Рэйчел & (Чендлер ИЛИ Джои) & Росс', \n",
    "    '(НЕ Моника) & Фиби & Рэйчел & Чендлер & Джои & (НЕ Росс)'\n",
    "]"
   ]
  },
  {
   "cell_type": "code",
   "execution_count": 238,
   "metadata": {},
   "outputs": [],
   "source": [
    "#text ='Моника & Фиби & Рэйчел & Чендлер & Джоуи & Росс'\n",
    "text = '(НЕ Моника) & Фиби & Рэйчел & Чендлер & Джоуи & (НЕ Росс)'\n",
    "#text = 'after ИЛИ and'\n",
    "#text = 'after ИЛИ and ИЛИ ahh'\n",
    "#text = 'and & (НЕ Моника)'\n",
    "text = '(Моника ИЛИ Фиби) & Рэйчел & (Чендлер ИЛИ Джоуи) & Росс'\n",
    "# не (моника или чедлер)\n",
    "#boolean_search(data, text)"
   ]
  },
  {
   "cell_type": "code",
   "execution_count": 66,
   "metadata": {},
   "outputs": [],
   "source": [
    "def boolean_search(data, text):\n",
    "    \"\"\"\n",
    "    Produces a Boolean search according with the term-document matrix\n",
    "    :return: list of first 5 relevant documents\n",
    "    \n",
    "    \n",
    "    AND = Пересечение - &\n",
    "    OR = Объединение - ИЛИ\n",
    "    NOT = Исключение - НЕ\n",
    "    \"\"\"\n",
    "    if not isinstance(text, (str, list)):\n",
    "        raise ValueError\n",
    "    \n",
    "    i = 0 \n",
    "    j = 1\n",
    "\n",
    "    names = text.split(' ')\n",
    "    answer = []\n",
    "    operand = ['&', 'ИЛИ', 'НЕ', '(НЕ']\n",
    "    block = []\n",
    "\n",
    "    ands = False\n",
    "    ors = False\n",
    "    nons = False\n",
    "\n",
    "    par = False\n",
    "\n",
    "    bl_ands = False\n",
    "    bl_ors = False\n",
    "    bl_non = False\n",
    "    bl_end = False\n",
    "\n",
    "    def plus(answer, cur):\n",
    "        answer.append(answer[-1] & cur)\n",
    "\n",
    "    def or_(answer, cur):\n",
    "        answer.append(answer[-1] | cur)\n",
    "\n",
    "    \n",
    "    for index, item in enumerate(names):\n",
    "    \n",
    "        if item != '' and item not in operand:\n",
    "        \n",
    "            if item.startswith('('):\n",
    "                item = item[1:]\n",
    "                block.append(item)\n",
    "                par = True\n",
    "        \n",
    "            if item.endswith(')'):\n",
    "                item = item[:-1]\n",
    "                bl_end = True\n",
    "        \n",
    "            if par:\n",
    "                if bl_non:\n",
    "                    cur = data_search(data, item.lower(), non=True)\n",
    "                    nons = False\n",
    "                else:\n",
    "                    cur = data_search(data, item.lower())\n",
    "    \n",
    "                if bl_ands:\n",
    "                    plus(block, cur)\n",
    "                    bl_ands = False\n",
    "            \n",
    "                if bl_ors:\n",
    "                    or_(block, cur)\n",
    "                    bl_ors = False\n",
    "            \n",
    "                else:\n",
    "                    block.append(cur)\n",
    "\n",
    "                if bl_end:\n",
    "                    if ands:\n",
    "                        plus(answer, block[-1])\n",
    "                        ands = False\n",
    "                    if ors:\n",
    "                        or_(answer, block[-1])\n",
    "                        ors = False\n",
    "                    else:\n",
    "                        answer.append(block[-1])\n",
    "                    par = False\n",
    "                \n",
    "            else:\n",
    "                if nons and item[0] != '(':\n",
    "                    cur = data_search(data, item.lower(), non=True)\n",
    "                    nons = False\n",
    "                elif not nons:\n",
    "                    cur = data_search(data, item.lower())\n",
    "\n",
    "                if index == 0:\n",
    "                    answer.append(cur)\n",
    "            \n",
    "                if ands:\n",
    "                    plus(answer, cur)\n",
    "                    ands = False\n",
    "                if ors:\n",
    "                    or_(answer, cur)\n",
    "                    ors = False\n",
    "    \n",
    "        elif item == '&':\n",
    "            if par:\n",
    "                bl_ands = True\n",
    "            if len(answer) > 0:\n",
    "                ands = True\n",
    "            else:\n",
    "                raise ValueError('Enter correct string')\n",
    "    \n",
    "        elif item == 'ИЛИ':\n",
    "            if par:\n",
    "                bl_ors = True\n",
    "            elif len(answer) > 0:\n",
    "                ors = True\n",
    "            else:\n",
    "                raise ValueError('Enter correct string')\n",
    "    \n",
    "        elif item == 'НЕ':\n",
    "            if par:\n",
    "                bl_non = True\n",
    "            else:\n",
    "                nons = True\n",
    "\n",
    "        elif item == '(НЕ':\n",
    "            bl_non = True\n",
    "            par = True\n",
    "    \n",
    "    return [itm for ind, itm in enumerate(answer[-1]) if ind < 5]"
   ]
  },
  {
   "cell_type": "code",
   "execution_count": 67,
   "metadata": {},
   "outputs": [
    {
     "data": {
      "text/plain": [
       "['Friends - 3x01 - The One With The Princess Leia Fantasy',\n",
       " 'Friends - 4x01 - The One With The Jellyfish.Tv',\n",
       " \"Friends - 7x18 - The One With Joey's Award\",\n",
       " 'Friends - 7x05 - The One With The Engagement Picture',\n",
       " \"Friends - 4x03 - The One With The 'Cuffs\"]"
      ]
     },
     "execution_count": 67,
     "metadata": {},
     "output_type": "execute_result"
    }
   ],
   "source": [
    "text = '(Моника ИЛИ Фиби) & Рэйчел & (Чендлер ИЛИ Джоуи) & Росс'\n",
    "boolean_search(data, text)"
   ]
  },
  {
   "cell_type": "markdown",
   "metadata": {},
   "source": [
    "<img src=\"pics/inv_index3.svg\" alt=\"Drawing\" style=\"width: 600px;\"/>"
   ]
  },
  {
   "cell_type": "markdown",
   "metadata": {},
   "source": [
    "Совет для построения обратного индекса: \n",
    "> В качестве словаря используйте ``` defaultdict ``` из модуля collections   \n",
    "Так можно избежать конструкции ``` dict.setdefault(key, default=None) ```"
   ]
  },
  {
   "cell_type": "code",
   "execution_count": 69,
   "metadata": {},
   "outputs": [],
   "source": [
    "def inverted_index(vect) -> dict:\n",
    "    \"\"\"\n",
    "    Create inverted index by input doc collection\n",
    "    :return: inverted index\n",
    "    \"\"\"\n",
    "    \n",
    "    d = defaultdict(list)\n",
    "\n",
    "    for word in vect.get_feature_names():\n",
    "        d[word] = [i for i in data_search(data, word)]\n",
    "    \n",
    "    return d"
   ]
  },
  {
   "cell_type": "code",
   "execution_count": 71,
   "metadata": {},
   "outputs": [],
   "source": [
    "d = inverted_index(vect)"
   ]
  },
  {
   "cell_type": "markdown",
   "metadata": {},
   "source": [
    "С помощью обратного индекса произведите следующую аналитику:  \n",
    "\n",
    "1) общая аналитика\n",
    "- какое слово является самым частотным?\n",
    "- какое самым редким?\n",
    "- какой набор слов есть во всех документах коллекции?\n",
    "\n",
    "2) частота встречаемости имен главных героев в каждом сезоне      \n",
    "- какой сезон был самым популярным у Чендлера? у Моники?   \n",
    "- кто из главных героев статистически самый популярный? \n"
   ]
  },
  {
   "cell_type": "markdown",
   "metadata": {},
   "source": [
    "Таблица индекса"
   ]
  },
  {
   "cell_type": "code",
   "execution_count": 72,
   "metadata": {},
   "outputs": [],
   "source": [
    "import collections"
   ]
  },
  {
   "cell_type": "code",
   "execution_count": 73,
   "metadata": {},
   "outputs": [],
   "source": [
    "inv_ind = pd.DataFrame({'term': vect.get_feature_names(),\n",
    "                        'docs': list(d.values()),\n",
    "                        'freq': data['freq']\n",
    "                       })"
   ]
  },
  {
   "cell_type": "code",
   "execution_count": 74,
   "metadata": {},
   "outputs": [],
   "source": [
    "inv_ind['lenght'] = inv_ind.docs.map(lambda x: len(x))"
   ]
  },
  {
   "cell_type": "code",
   "execution_count": 75,
   "metadata": {},
   "outputs": [
    {
     "data": {
      "text/html": [
       "<div>\n",
       "<style scoped>\n",
       "    .dataframe tbody tr th:only-of-type {\n",
       "        vertical-align: middle;\n",
       "    }\n",
       "\n",
       "    .dataframe tbody tr th {\n",
       "        vertical-align: top;\n",
       "    }\n",
       "\n",
       "    .dataframe thead th {\n",
       "        text-align: right;\n",
       "    }\n",
       "</style>\n",
       "<table border=\"1\" class=\"dataframe\">\n",
       "  <thead>\n",
       "    <tr style=\"text-align: right;\">\n",
       "      <th></th>\n",
       "      <th>docs</th>\n",
       "      <th>freq</th>\n",
       "      <th>term</th>\n",
       "      <th>lenght</th>\n",
       "    </tr>\n",
       "    <tr>\n",
       "      <th>Term</th>\n",
       "      <th></th>\n",
       "      <th></th>\n",
       "      <th></th>\n",
       "      <th></th>\n",
       "    </tr>\n",
       "  </thead>\n",
       "  <tbody>\n",
       "    <tr>\n",
       "      <th>after</th>\n",
       "      <td>[Friends - 4x03 - The One With The 'Cuffs]</td>\n",
       "      <td>0.025744</td>\n",
       "      <td>after</td>\n",
       "      <td>1</td>\n",
       "    </tr>\n",
       "    <tr>\n",
       "      <th>again</th>\n",
       "      <td>[Friends - 1x15 - The One With The Stoned Guy]</td>\n",
       "      <td>0.025580</td>\n",
       "      <td>again</td>\n",
       "      <td>1</td>\n",
       "    </tr>\n",
       "    <tr>\n",
       "      <th>ahh</th>\n",
       "      <td>[Friends - 7x11 - The One With All The Cheesec...</td>\n",
       "      <td>0.024608</td>\n",
       "      <td>ahh</td>\n",
       "      <td>2</td>\n",
       "    </tr>\n",
       "    <tr>\n",
       "      <th>all</th>\n",
       "      <td>[Friends - 2x02 - The One With The Breast Milk...</td>\n",
       "      <td>0.068349</td>\n",
       "      <td>all</td>\n",
       "      <td>2</td>\n",
       "    </tr>\n",
       "    <tr>\n",
       "      <th>and</th>\n",
       "      <td>[Friends - 3x05 - The One With Frank Jr., Frie...</td>\n",
       "      <td>0.076152</td>\n",
       "      <td>and</td>\n",
       "      <td>2</td>\n",
       "    </tr>\n",
       "  </tbody>\n",
       "</table>\n",
       "</div>"
      ],
      "text/plain": [
       "                                                    docs      freq   term  \\\n",
       "Term                                                                        \n",
       "after         [Friends - 4x03 - The One With The 'Cuffs]  0.025744  after   \n",
       "again     [Friends - 1x15 - The One With The Stoned Guy]  0.025580  again   \n",
       "ahh    [Friends - 7x11 - The One With All The Cheesec...  0.024608    ahh   \n",
       "all    [Friends - 2x02 - The One With The Breast Milk...  0.068349    all   \n",
       "and    [Friends - 3x05 - The One With Frank Jr., Frie...  0.076152    and   \n",
       "\n",
       "       lenght  \n",
       "Term           \n",
       "after       1  \n",
       "again       1  \n",
       "ahh         2  \n",
       "all         2  \n",
       "and         2  "
      ]
     },
     "execution_count": 75,
     "metadata": {},
     "output_type": "execute_result"
    }
   ],
   "source": [
    "inv_ind.head()"
   ]
  },
  {
   "cell_type": "markdown",
   "metadata": {},
   "source": [
    "Какое слово является самым частотным?"
   ]
  },
  {
   "cell_type": "code",
   "execution_count": 76,
   "metadata": {},
   "outputs": [
    {
     "data": {
      "text/plain": [
       "docs      [Friends - 7x05 - The One With The Engagement ...\n",
       "freq                                                 55.332\n",
       "term                                                     ты\n",
       "lenght                                                    1\n",
       "Name: ты, dtype: object"
      ]
     },
     "execution_count": 76,
     "metadata": {},
     "output_type": "execute_result"
    }
   ],
   "source": [
    "inv_ind.ix[inv_ind['freq'].idxmax()]"
   ]
  },
  {
   "cell_type": "markdown",
   "metadata": {},
   "source": [
    "Какое самым редким?"
   ]
  },
  {
   "cell_type": "code",
   "execution_count": 77,
   "metadata": {},
   "outputs": [
    {
     "data": {
      "text/plain": [
       "docs      [Friends - 6x04 - The One Where Joey Loses His...\n",
       "freq                                              0.0156364\n",
       "term                                                     би\n",
       "lenght                                                    1\n",
       "Name: би, dtype: object"
      ]
     },
     "execution_count": 77,
     "metadata": {},
     "output_type": "execute_result"
    }
   ],
   "source": [
    "inv_ind.ix[inv_ind['freq'].idxmin()]"
   ]
  },
  {
   "cell_type": "markdown",
   "metadata": {},
   "source": [
    "Какой набор слов есть во всех документах коллекции?"
   ]
  },
  {
   "cell_type": "code",
   "execution_count": 78,
   "metadata": {},
   "outputs": [
    {
     "data": {
      "text/plain": [
       "['акула',\n",
       " 'амузбушнуло',\n",
       " 'вбрасывать',\n",
       " 'век',\n",
       " 'внук',\n",
       " 'гигиенистка',\n",
       " 'джоуевский',\n",
       " 'домоводческий',\n",
       " 'зерно',\n",
       " 'кинзовый',\n",
       " 'кнопка',\n",
       " 'концентрический',\n",
       " 'космолагерь',\n",
       " 'кроче',\n",
       " 'кружиться',\n",
       " 'легальный',\n",
       " 'наступать',\n",
       " 'начистоту',\n",
       " 'официанточка',\n",
       " 'подкатывать',\n",
       " 'премия',\n",
       " 'раздвигать',\n",
       " 'речь',\n",
       " 'справляться',\n",
       " 'требовать',\n",
       " 'уберегать',\n",
       " 'указание',\n",
       " 'формально',\n",
       " 'хота',\n",
       " 'шведский',\n",
       " 'шухер',\n",
       " 'энн']"
      ]
     },
     "execution_count": 78,
     "metadata": {},
     "output_type": "execute_result"
    }
   ],
   "source": [
    "list(inv_ind.loc[inv_ind['lenght'] == 165].term)"
   ]
  },
  {
   "cell_type": "markdown",
   "metadata": {},
   "source": [
    "Какой сезон был самым популярным у Чендлера? у Моники?"
   ]
  },
  {
   "cell_type": "markdown",
   "metadata": {},
   "source": [
    "Чендлер"
   ]
  },
  {
   "cell_type": "code",
   "execution_count": 79,
   "metadata": {},
   "outputs": [],
   "source": [
    "def popular(name):\n",
    "\n",
    "    row = data.loc[name.lower()]\n",
    "    row = row.drop('freq')\n",
    "\n",
    "    maximum = 0\n",
    "    seas = ''\n",
    "\n",
    "    for i in range(1, 8):\n",
    "        a = row[seasons[i]].sum()\n",
    "        if maximum < a:\n",
    "            maximum = a\n",
    "            seas = i\n",
    "\n",
    "    return seas"
   ]
  },
  {
   "cell_type": "code",
   "execution_count": 80,
   "metadata": {},
   "outputs": [
    {
     "data": {
      "text/plain": [
       "2"
      ]
     },
     "execution_count": 80,
     "metadata": {},
     "output_type": "execute_result"
    }
   ],
   "source": [
    "popular('чендлер')"
   ]
  },
  {
   "cell_type": "markdown",
   "metadata": {},
   "source": [
    "Моника"
   ]
  },
  {
   "cell_type": "code",
   "execution_count": 81,
   "metadata": {},
   "outputs": [
    {
     "data": {
      "text/plain": [
       "4"
      ]
     },
     "execution_count": 81,
     "metadata": {},
     "output_type": "execute_result"
    }
   ],
   "source": [
    "popular('моника')"
   ]
  },
  {
   "cell_type": "markdown",
   "metadata": {},
   "source": [
    "Кто из главных героев статистически самый популярный?"
   ]
  },
  {
   "cell_type": "code",
   "execution_count": 82,
   "metadata": {},
   "outputs": [
    {
     "data": {
      "text/plain": [
       "Term\n",
       "моника     3.881715\n",
       "росс       5.182460\n",
       "джоуи      3.999995\n",
       "чендлер    4.085088\n",
       "фиби       3.236180\n",
       "рэйчел     2.427932\n",
       "Name: freq, dtype: float64"
      ]
     },
     "execution_count": 82,
     "metadata": {},
     "output_type": "execute_result"
    }
   ],
   "source": [
    "data.loc[['моника', 'росс', 'джоуи', 'чендлер', 'фиби', 'рэйчел']]['freq']"
   ]
  },
  {
   "cell_type": "markdown",
   "metadata": {},
   "source": [
    "Росс самый популярный"
   ]
  },
  {
   "cell_type": "markdown",
   "metadata": {},
   "source": [
    "## Функция ранжирования Okapi BM25"
   ]
  },
  {
   "cell_type": "markdown",
   "metadata": {},
   "source": [
    "Для обратного индекса есть общепринятая формула для ранжирования *Okapi best match 25* ([Okapi BM25](https://ru.wikipedia.org/wiki/Okapi_BM25)).    \n",
    "Пусть дан запрос $Q$, содержащий слова  $q_1, ... , q_n$, тогда функция BM25 даёт следующую оценку релевантности документа $D$ запросу $Q$:\n",
    "\n",
    "$$ score(D, Q) = \\sum_{i}^{n} \\text{IDF}(q_i)*\\frac{(k_1+1)*f(q_i,D)}{f(q_i,D)+k_1(1-b+b\\frac{|D|}{avgdl})} $$ \n",
    "где   \n",
    ">$f(q_i,D)$ - частота слова $q_i$ в документе $D$ (TF)       \n",
    "$|D|$ - длина документа (количество слов в нём)   \n",
    "*avgdl* — средняя длина документа в коллекции    \n",
    "$k_1$ и $b$ — свободные коэффициенты, обычно их выбирают как $k_1$=2.0 и $b$=0.75   \n",
    "$$$$\n",
    "$\\text{IDF}(q_i)$ есть обратная документная частота (IDF) слова $q_i$: \n",
    "$$\\text{IDF}(q_i) = \\log\\frac{N-n(q_i)+0.5}{n(q_i)+0.5},$$\n",
    ">> где $N$ - общее количество документов в коллекции   \n",
    "$n(q_i)$ — количество документов, содержащих $q_i$"
   ]
  },
  {
   "cell_type": "code",
   "execution_count": 83,
   "metadata": {},
   "outputs": [],
   "source": [
    "from math import log"
   ]
  },
  {
   "cell_type": "code",
   "execution_count": 84,
   "metadata": {},
   "outputs": [],
   "source": [
    "def idf(N, q):\n",
    "    n = inv_ind.loc[q]['lenght'] \n",
    "    a = N - n + 0.5\n",
    "    return log(a / n + 0.5)"
   ]
  },
  {
   "cell_type": "code",
   "execution_count": 85,
   "metadata": {},
   "outputs": [],
   "source": [
    "### реализуйте эту функцию ранжирования \n",
    "from math import log\n",
    "\n",
    "k1 = 2.0\n",
    "b = 0.75\n",
    "N = 165\n",
    "avgdl = np.mean(avr)\n",
    "opr = [' ', '  ', '\\t', '\\n']\n",
    "n = 0\n",
    "\n",
    "def score_BM25(qf, dl, avgdl, k1, b, N, n, data):\n",
    "    \"\"\"\n",
    "    Compute similarity score between search query and documents from collection\n",
    "    :return: score\n",
    "    \n",
    "    qf - запрос\n",
    "    dl - название документа = название серии\n",
    "\n",
    "    \"\"\"\n",
    "    if not isinstance(qf, str):\n",
    "        raise ValueError\n",
    "    if not isinstance(dl, str):\n",
    "        raise ValueError\n",
    "\n",
    "    words = mystem.lemmatize(remove(qf))\n",
    "    words = [word for word in words if word not in opr]\n",
    "    \n",
    "    ans = 0\n",
    "    \n",
    "    for word in words:\n",
    "        if word in data.index and dl in data.columns:\n",
    "            f = (data.loc[word][dl] / idf(N, word))\n",
    "            a = (k1 + 1) * f\n",
    "            b = f + k1*(1 - b + b*(len(words)) / avgdl)\n",
    "            ans += (a / b) * idf(N, word)\n",
    "    \n",
    "\n",
    "    return ans"
   ]
  },
  {
   "cell_type": "code",
   "execution_count": 86,
   "metadata": {},
   "outputs": [
    {
     "data": {
      "text/plain": [
       "0.0778204997492204"
      ]
     },
     "execution_count": 86,
     "metadata": {},
     "output_type": "execute_result"
    }
   ],
   "source": [
    "score_BM25('моника и чендлер', 'Friends - 5x16 - The One With The Cop', avgdl, k1, b, N, n, data)"
   ]
  },
  {
   "cell_type": "markdown",
   "metadata": {},
   "source": [
    "### __Задача__:    \n",
    "напишите функцию, которая сортирует поисковую выдачу для любого входящего запроса согласно метрике *Okapi BM25*.    \n",
    "Выведите 10 первых результатов и их скор по запросу **рождественские каникулы**. "
   ]
  },
  {
   "cell_type": "code",
   "execution_count": 87,
   "metadata": {},
   "outputs": [],
   "source": [
    "def compute_sim(text, doc, data):\n",
    "    \"\"\"\n",
    "    Compute similarity score between search query and documents from collection\n",
    "    :return: score\n",
    "    \"\"\"\n",
    "    return score_BM25(text, doc, avgdl, k1, b, N, n, data)\n",
    "\n",
    "\n",
    "def get_search_result(text, data):\n",
    "    \"\"\"\n",
    "    Compute sim score between search query and all documents in collection\n",
    "    Collect as pair (doc_id, score)\n",
    "    :param query: input text\n",
    "    :return: list of lists with (doc_id, score)\n",
    "    \"\"\"\n",
    "    \n",
    "    if not isinstance(text, str):\n",
    "        raise ValueError\n",
    "    \n",
    "    arr = []\n",
    "    \n",
    "    for doc in data.columns:\n",
    "        arr.append((doc, compute_sim(text, doc, data)))\n",
    "    \n",
    "    return arr"
   ]
  },
  {
   "cell_type": "code",
   "execution_count": 88,
   "metadata": {},
   "outputs": [
    {
     "data": {
      "text/plain": [
       "[(\"Friends - 7x19 - The One With Ross And Monica's Cousin\",\n",
       "  0.6961737811621609),\n",
       " ('Friends - 6x01 - The One After Vegas', 0.508830209803203),\n",
       " ('Friends - 5x16 - The One With The Cop', 0.36194261665203264),\n",
       " (\"Friends - 6x19 - The One With Joey's Fridge\", 0.33587383556912054),\n",
       " ('Friends - 1x02 - The One With The Sonogram At The End',\n",
       "  0.23735908076155765),\n",
       " ('Friends - 5x21 - The One With The Ball', 0.22718732672693115),\n",
       " ('Friends - 1x08 - The One Where Nana Dies Twice', 0.22223873275445033),\n",
       " ('Friends - 3x18 - The One With The Hypnosis Tape', 0.2119813698252759),\n",
       " ('Friends - 1x09 - The One Where Underdog Gets Away', 0.1158119538177487),\n",
       " (\"Friends - 5x13 - The One With Joey's Bag\", 0.11159121975604475)]"
      ]
     },
     "execution_count": 88,
     "metadata": {},
     "output_type": "execute_result"
    }
   ],
   "source": [
    "sorted(get_search_result('рождественские каникулы', data),\n",
    "       key=lambda x: x[1], reverse=True)[1:11]"
   ]
  }
 ],
 "metadata": {
  "kernelspec": {
   "display_name": "Python 3",
   "language": "python",
   "name": "python3"
  },
  "language_info": {
   "codemirror_mode": {
    "name": "ipython",
    "version": 3
   },
   "file_extension": ".py",
   "mimetype": "text/x-python",
   "name": "python",
   "nbconvert_exporter": "python",
   "pygments_lexer": "ipython3",
   "version": "3.5.2"
  }
 },
 "nbformat": 4,
 "nbformat_minor": 2
}
